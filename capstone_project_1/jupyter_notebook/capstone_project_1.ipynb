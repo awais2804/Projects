{
 "cells": [
  {
   "cell_type": "markdown",
   "metadata": {},
   "source": [
    "A Credit Card Dataset for Machine Learning!\n",
    "Context\n",
    "Credit score cards are a common risk control method in the financial industry. It uses personal information and data submitted by credit card applicants to predict the probability of future defaults and credit card borrowings. The bank is able to decide whether to issue a credit card to the applicant. Credit scores can objectively quantify the magnitude of risk.\n",
    " \n",
    "Generally speaking, credit score cards are based on historical data. Once encountering large economic fluctuations. Past models may lose their original predictive power. Logistic model is a common method for credit scoring. Because Logistic is suitable for binary classification tasks and can calculate the coefficients of each feature. In order to facilitate understanding and operation, the score card will multiply the logistic regression coefficient by a certain value (such as 100) and round it.\n",
    " \n",
    "At present, with the development of machine learning algorithms. More predictive methods such as Boosting, Random Forest, and Support Vector Machines have been introduced into credit card scoring. However, these methods often do not have good transparency. It may be difficult to provide customers and regulators with a reason for rejection or acceptance.\n",
    "\n",
    "Task\n",
    "Build a machine learning model to predict if an applicant is 'good' or 'bad' client, different from other tasks, the definition of 'good' or 'bad' is not given. You should use some Machine learning techique to construct your label. Also, unbalance data problem is a big problem in this task."
   ]
  },
  {
   "cell_type": "code",
   "execution_count": 916,
   "metadata": {},
   "outputs": [],
   "source": [
    "import pandas as pd\n",
    "import numpy as np\n",
    "import matplotlib.pyplot as plt\n",
    "import seaborn as sns # for pairplot"
   ]
  },
  {
   "cell_type": "code",
   "execution_count": 917,
   "metadata": {},
   "outputs": [],
   "source": [
    "app=pd.read_csv(r\"E:\\Imarticus\\capstone_project_1\\dataset\\application_record.csv\")\n",
    "cre=pd.read_csv(r\"E:\\Imarticus\\capstone_project_1\\dataset\\credit_record.csv\")\n",
    "# There are two datasets, app contains personal information of the applicants with unique ID for each applicant\n",
    "# The cre contains the historical transaction information of the applicants, on the basis of this transaction we are going to \n",
    "# classify them as GOOD CUSTOMER OR BAD CUSTOMER."
   ]
  },
  {
   "cell_type": "code",
   "execution_count": 918,
   "metadata": {},
   "outputs": [
    {
     "data": {
      "text/html": [
       "<div>\n",
       "<style scoped>\n",
       "    .dataframe tbody tr th:only-of-type {\n",
       "        vertical-align: middle;\n",
       "    }\n",
       "\n",
       "    .dataframe tbody tr th {\n",
       "        vertical-align: top;\n",
       "    }\n",
       "\n",
       "    .dataframe thead th {\n",
       "        text-align: right;\n",
       "    }\n",
       "</style>\n",
       "<table border=\"1\" class=\"dataframe\">\n",
       "  <thead>\n",
       "    <tr style=\"text-align: right;\">\n",
       "      <th></th>\n",
       "      <th>ID</th>\n",
       "      <th>CODE_GENDER</th>\n",
       "      <th>FLAG_OWN_CAR</th>\n",
       "      <th>FLAG_OWN_REALTY</th>\n",
       "      <th>CNT_CHILDREN</th>\n",
       "      <th>AMT_INCOME_TOTAL</th>\n",
       "      <th>NAME_INCOME_TYPE</th>\n",
       "      <th>NAME_EDUCATION_TYPE</th>\n",
       "      <th>NAME_FAMILY_STATUS</th>\n",
       "      <th>NAME_HOUSING_TYPE</th>\n",
       "      <th>DAYS_BIRTH</th>\n",
       "      <th>DAYS_EMPLOYED</th>\n",
       "      <th>FLAG_MOBIL</th>\n",
       "      <th>FLAG_WORK_PHONE</th>\n",
       "      <th>FLAG_PHONE</th>\n",
       "      <th>FLAG_EMAIL</th>\n",
       "      <th>OCCUPATION_TYPE</th>\n",
       "      <th>CNT_FAM_MEMBERS</th>\n",
       "    </tr>\n",
       "  </thead>\n",
       "  <tbody>\n",
       "    <tr>\n",
       "      <th>0</th>\n",
       "      <td>5008804</td>\n",
       "      <td>M</td>\n",
       "      <td>Y</td>\n",
       "      <td>Y</td>\n",
       "      <td>0</td>\n",
       "      <td>427500.0</td>\n",
       "      <td>Working</td>\n",
       "      <td>Higher education</td>\n",
       "      <td>Civil marriage</td>\n",
       "      <td>Rented apartment</td>\n",
       "      <td>-12005</td>\n",
       "      <td>-4542</td>\n",
       "      <td>1</td>\n",
       "      <td>1</td>\n",
       "      <td>0</td>\n",
       "      <td>0</td>\n",
       "      <td>NaN</td>\n",
       "      <td>2</td>\n",
       "    </tr>\n",
       "    <tr>\n",
       "      <th>1</th>\n",
       "      <td>5008805</td>\n",
       "      <td>M</td>\n",
       "      <td>Y</td>\n",
       "      <td>Y</td>\n",
       "      <td>0</td>\n",
       "      <td>427500.0</td>\n",
       "      <td>Working</td>\n",
       "      <td>Higher education</td>\n",
       "      <td>Civil marriage</td>\n",
       "      <td>Rented apartment</td>\n",
       "      <td>-12005</td>\n",
       "      <td>-4542</td>\n",
       "      <td>1</td>\n",
       "      <td>1</td>\n",
       "      <td>0</td>\n",
       "      <td>0</td>\n",
       "      <td>NaN</td>\n",
       "      <td>2</td>\n",
       "    </tr>\n",
       "    <tr>\n",
       "      <th>2</th>\n",
       "      <td>5008806</td>\n",
       "      <td>M</td>\n",
       "      <td>Y</td>\n",
       "      <td>Y</td>\n",
       "      <td>0</td>\n",
       "      <td>112500.0</td>\n",
       "      <td>Working</td>\n",
       "      <td>Secondary / secondary special</td>\n",
       "      <td>Married</td>\n",
       "      <td>House / apartment</td>\n",
       "      <td>-21474</td>\n",
       "      <td>-1134</td>\n",
       "      <td>1</td>\n",
       "      <td>0</td>\n",
       "      <td>0</td>\n",
       "      <td>0</td>\n",
       "      <td>Security staff</td>\n",
       "      <td>2</td>\n",
       "    </tr>\n",
       "    <tr>\n",
       "      <th>3</th>\n",
       "      <td>5008808</td>\n",
       "      <td>F</td>\n",
       "      <td>N</td>\n",
       "      <td>Y</td>\n",
       "      <td>0</td>\n",
       "      <td>270000.0</td>\n",
       "      <td>Commercial associate</td>\n",
       "      <td>Secondary / secondary special</td>\n",
       "      <td>Single / not married</td>\n",
       "      <td>House / apartment</td>\n",
       "      <td>-19110</td>\n",
       "      <td>-3051</td>\n",
       "      <td>1</td>\n",
       "      <td>0</td>\n",
       "      <td>1</td>\n",
       "      <td>1</td>\n",
       "      <td>Sales staff</td>\n",
       "      <td>1</td>\n",
       "    </tr>\n",
       "    <tr>\n",
       "      <th>4</th>\n",
       "      <td>5008809</td>\n",
       "      <td>F</td>\n",
       "      <td>N</td>\n",
       "      <td>Y</td>\n",
       "      <td>0</td>\n",
       "      <td>270000.0</td>\n",
       "      <td>Commercial associate</td>\n",
       "      <td>Secondary / secondary special</td>\n",
       "      <td>Single / not married</td>\n",
       "      <td>House / apartment</td>\n",
       "      <td>-19110</td>\n",
       "      <td>-3051</td>\n",
       "      <td>1</td>\n",
       "      <td>0</td>\n",
       "      <td>1</td>\n",
       "      <td>1</td>\n",
       "      <td>Sales staff</td>\n",
       "      <td>1</td>\n",
       "    </tr>\n",
       "  </tbody>\n",
       "</table>\n",
       "</div>"
      ],
      "text/plain": [
       "        ID CODE_GENDER FLAG_OWN_CAR FLAG_OWN_REALTY  CNT_CHILDREN  \\\n",
       "0  5008804           M            Y               Y             0   \n",
       "1  5008805           M            Y               Y             0   \n",
       "2  5008806           M            Y               Y             0   \n",
       "3  5008808           F            N               Y             0   \n",
       "4  5008809           F            N               Y             0   \n",
       "\n",
       "   AMT_INCOME_TOTAL      NAME_INCOME_TYPE            NAME_EDUCATION_TYPE  \\\n",
       "0          427500.0               Working               Higher education   \n",
       "1          427500.0               Working               Higher education   \n",
       "2          112500.0               Working  Secondary / secondary special   \n",
       "3          270000.0  Commercial associate  Secondary / secondary special   \n",
       "4          270000.0  Commercial associate  Secondary / secondary special   \n",
       "\n",
       "     NAME_FAMILY_STATUS  NAME_HOUSING_TYPE  DAYS_BIRTH  DAYS_EMPLOYED  \\\n",
       "0        Civil marriage   Rented apartment      -12005          -4542   \n",
       "1        Civil marriage   Rented apartment      -12005          -4542   \n",
       "2               Married  House / apartment      -21474          -1134   \n",
       "3  Single / not married  House / apartment      -19110          -3051   \n",
       "4  Single / not married  House / apartment      -19110          -3051   \n",
       "\n",
       "   FLAG_MOBIL  FLAG_WORK_PHONE  FLAG_PHONE  FLAG_EMAIL OCCUPATION_TYPE  \\\n",
       "0           1                1           0           0             NaN   \n",
       "1           1                1           0           0             NaN   \n",
       "2           1                0           0           0  Security staff   \n",
       "3           1                0           1           1     Sales staff   \n",
       "4           1                0           1           1     Sales staff   \n",
       "\n",
       "   CNT_FAM_MEMBERS  \n",
       "0                2  \n",
       "1                2  \n",
       "2                2  \n",
       "3                1  \n",
       "4                1  "
      ]
     },
     "execution_count": 918,
     "metadata": {},
     "output_type": "execute_result"
    }
   ],
   "source": [
    "app.head()"
   ]
  },
  {
   "cell_type": "code",
   "execution_count": 919,
   "metadata": {
    "scrolled": false
   },
   "outputs": [
    {
     "data": {
      "text/html": [
       "<div>\n",
       "<style scoped>\n",
       "    .dataframe tbody tr th:only-of-type {\n",
       "        vertical-align: middle;\n",
       "    }\n",
       "\n",
       "    .dataframe tbody tr th {\n",
       "        vertical-align: top;\n",
       "    }\n",
       "\n",
       "    .dataframe thead th {\n",
       "        text-align: right;\n",
       "    }\n",
       "</style>\n",
       "<table border=\"1\" class=\"dataframe\">\n",
       "  <thead>\n",
       "    <tr style=\"text-align: right;\">\n",
       "      <th></th>\n",
       "      <th>ID</th>\n",
       "      <th>MONTHS_BALANCE</th>\n",
       "      <th>STATUS</th>\n",
       "    </tr>\n",
       "  </thead>\n",
       "  <tbody>\n",
       "    <tr>\n",
       "      <th>0</th>\n",
       "      <td>5001711</td>\n",
       "      <td>0</td>\n",
       "      <td>X</td>\n",
       "    </tr>\n",
       "    <tr>\n",
       "      <th>1</th>\n",
       "      <td>5001711</td>\n",
       "      <td>-1</td>\n",
       "      <td>0</td>\n",
       "    </tr>\n",
       "    <tr>\n",
       "      <th>2</th>\n",
       "      <td>5001711</td>\n",
       "      <td>-2</td>\n",
       "      <td>0</td>\n",
       "    </tr>\n",
       "    <tr>\n",
       "      <th>3</th>\n",
       "      <td>5001711</td>\n",
       "      <td>-3</td>\n",
       "      <td>0</td>\n",
       "    </tr>\n",
       "    <tr>\n",
       "      <th>4</th>\n",
       "      <td>5001712</td>\n",
       "      <td>0</td>\n",
       "      <td>C</td>\n",
       "    </tr>\n",
       "  </tbody>\n",
       "</table>\n",
       "</div>"
      ],
      "text/plain": [
       "        ID  MONTHS_BALANCE STATUS\n",
       "0  5001711               0      X\n",
       "1  5001711              -1      0\n",
       "2  5001711              -2      0\n",
       "3  5001711              -3      0\n",
       "4  5001712               0      C"
      ]
     },
     "execution_count": 919,
     "metadata": {},
     "output_type": "execute_result"
    }
   ],
   "source": [
    "cre.head()"
   ]
  },
  {
   "cell_type": "code",
   "execution_count": 920,
   "metadata": {},
   "outputs": [
    {
     "data": {
      "text/plain": [
       "(438557, 18)"
      ]
     },
     "execution_count": 920,
     "metadata": {},
     "output_type": "execute_result"
    }
   ],
   "source": [
    "app.shape"
   ]
  },
  {
   "cell_type": "code",
   "execution_count": 1064,
   "metadata": {},
   "outputs": [
    {
     "data": {
      "text/html": [
       "<div>\n",
       "<style scoped>\n",
       "    .dataframe tbody tr th:only-of-type {\n",
       "        vertical-align: middle;\n",
       "    }\n",
       "\n",
       "    .dataframe tbody tr th {\n",
       "        vertical-align: top;\n",
       "    }\n",
       "\n",
       "    .dataframe thead th {\n",
       "        text-align: right;\n",
       "    }\n",
       "</style>\n",
       "<table border=\"1\" class=\"dataframe\">\n",
       "  <thead>\n",
       "    <tr style=\"text-align: right;\">\n",
       "      <th></th>\n",
       "      <th>ID</th>\n",
       "      <th>MONTHS_BALANCE</th>\n",
       "      <th>STATUS</th>\n",
       "    </tr>\n",
       "  </thead>\n",
       "  <tbody>\n",
       "    <tr>\n",
       "      <th>1</th>\n",
       "      <td>5001711</td>\n",
       "      <td>-1</td>\n",
       "      <td>0</td>\n",
       "    </tr>\n",
       "    <tr>\n",
       "      <th>2</th>\n",
       "      <td>5001711</td>\n",
       "      <td>-2</td>\n",
       "      <td>0</td>\n",
       "    </tr>\n",
       "    <tr>\n",
       "      <th>3</th>\n",
       "      <td>5001711</td>\n",
       "      <td>-3</td>\n",
       "      <td>0</td>\n",
       "    </tr>\n",
       "    <tr>\n",
       "      <th>4</th>\n",
       "      <td>5001712</td>\n",
       "      <td>0</td>\n",
       "      <td>0</td>\n",
       "    </tr>\n",
       "    <tr>\n",
       "      <th>5</th>\n",
       "      <td>5001712</td>\n",
       "      <td>-1</td>\n",
       "      <td>0</td>\n",
       "    </tr>\n",
       "  </tbody>\n",
       "</table>\n",
       "</div>"
      ],
      "text/plain": [
       "        ID  MONTHS_BALANCE  STATUS\n",
       "1  5001711              -1       0\n",
       "2  5001711              -2       0\n",
       "3  5001711              -3       0\n",
       "4  5001712               0       0\n",
       "5  5001712              -1       0"
      ]
     },
     "execution_count": 1064,
     "metadata": {},
     "output_type": "execute_result"
    }
   ],
   "source": [
    "cre.head()"
   ]
  },
  {
   "cell_type": "code",
   "execution_count": 922,
   "metadata": {},
   "outputs": [
    {
     "data": {
      "text/plain": [
       "C    442031\n",
       "0    383120\n",
       "X    209230\n",
       "1     11090\n",
       "5      1693\n",
       "2       868\n",
       "3       320\n",
       "4       223\n",
       "Name: STATUS, dtype: int64"
      ]
     },
     "execution_count": 922,
     "metadata": {},
     "output_type": "execute_result"
    }
   ],
   "source": [
    "cre.STATUS.value_counts()"
   ]
  },
  {
   "cell_type": "code",
   "execution_count": 923,
   "metadata": {},
   "outputs": [
    {
     "data": {
      "text/plain": [
       "(1048575, 3)"
      ]
     },
     "execution_count": 923,
     "metadata": {},
     "output_type": "execute_result"
    }
   ],
   "source": [
    "cre.shape"
   ]
  },
  {
   "cell_type": "code",
   "execution_count": 924,
   "metadata": {},
   "outputs": [],
   "source": [
    "# deleting observations for the month in which there were no transaction because these observation do not have desired information\n",
    "cre.drop(cre[cre['STATUS']=='X'].index,axis=0,inplace=True)"
   ]
  },
  {
   "cell_type": "code",
   "execution_count": 925,
   "metadata": {},
   "outputs": [
    {
     "data": {
      "text/plain": [
       "C    52.663803\n",
       "0    45.645116\n",
       "1     1.321268\n",
       "5     0.201705\n",
       "2     0.103414\n",
       "3     0.038125\n",
       "4     0.026568\n",
       "Name: STATUS, dtype: float64"
      ]
     },
     "execution_count": 925,
     "metadata": {},
     "output_type": "execute_result"
    }
   ],
   "source": [
    "cre.STATUS.value_counts(normalize=True)*100"
   ]
  },
  {
   "cell_type": "code",
   "execution_count": 926,
   "metadata": {},
   "outputs": [
    {
     "data": {
      "text/plain": [
       "(839345, 3)"
      ]
     },
     "execution_count": 926,
     "metadata": {},
     "output_type": "execute_result"
    }
   ],
   "source": [
    "cre.shape"
   ]
  },
  {
   "cell_type": "markdown",
   "metadata": {},
   "source": [
    "0: 1-29 days past due 1: 30-59 days past due 2: 60-89 days overdue 3: 90-119 days overdue 4: 120-149 days overdue 5: Overdue or bad debts, write-offs for more than 150 days C: paid off that month X: No loan for the month"
   ]
  },
  {
   "cell_type": "code",
   "execution_count": 927,
   "metadata": {},
   "outputs": [
    {
     "data": {
      "text/plain": [
       "array(['0', 'C', '1', '2', '3', '4', '5'], dtype=object)"
      ]
     },
     "execution_count": 927,
     "metadata": {},
     "output_type": "execute_result"
    }
   ],
   "source": [
    "cre.STATUS.unique()\n"
   ]
  },
  {
   "cell_type": "code",
   "execution_count": 928,
   "metadata": {},
   "outputs": [],
   "source": [
    "# categorizing people who pay debt before 60 days past due date as GOOD clients(0) and people who pay their debts 30 or more days past due date as BAD clients(1) \n",
    "cre.STATUS=cre.STATUS.map({'0':0, 'C':0, '1':0, '2':1, '3':1, '4':1, '5':1})"
   ]
  },
  {
   "cell_type": "code",
   "execution_count": 929,
   "metadata": {},
   "outputs": [
    {
     "name": "stdout",
     "output_type": "stream",
     "text": [
      "<class 'pandas.core.frame.DataFrame'>\n",
      "Int64Index: 839345 entries, 1 to 1048574\n",
      "Data columns (total 3 columns):\n",
      " #   Column          Non-Null Count   Dtype\n",
      "---  ------          --------------   -----\n",
      " 0   ID              839345 non-null  int64\n",
      " 1   MONTHS_BALANCE  839345 non-null  int64\n",
      " 2   STATUS          839345 non-null  int64\n",
      "dtypes: int64(3)\n",
      "memory usage: 25.6 MB\n"
     ]
    }
   ],
   "source": [
    "cre.info()"
   ]
  },
  {
   "cell_type": "code",
   "execution_count": 930,
   "metadata": {},
   "outputs": [
    {
     "name": "stdout",
     "output_type": "stream",
     "text": [
      "        ID  MONTHS_BALANCE  STATUS\n",
      "1  5001711              -1       0\n",
      "2  5001711              -2       0\n",
      "3  5001711              -3       0\n",
      "4  5001712               0       0\n",
      "5  5001712              -1       0\n",
      "              ID  MONTHS_BALANCE  STATUS\n",
      "1048570  5150487             -25       0\n",
      "1048571  5150487             -26       0\n",
      "1048572  5150487             -27       0\n",
      "1048573  5150487             -28       0\n",
      "1048574  5150487             -29       0\n"
     ]
    }
   ],
   "source": [
    "print(cre.head())\n",
    "print(cre.tail())"
   ]
  },
  {
   "cell_type": "code",
   "execution_count": 931,
   "metadata": {},
   "outputs": [
    {
     "data": {
      "text/plain": [
       "0    99.630188\n",
       "1     0.369812\n",
       "Name: STATUS, dtype: float64"
      ]
     },
     "execution_count": 931,
     "metadata": {},
     "output_type": "execute_result"
    }
   ],
   "source": [
    "cre.STATUS.value_counts(normalize=True)*100"
   ]
  },
  {
   "cell_type": "code",
   "execution_count": 932,
   "metadata": {},
   "outputs": [],
   "source": [
    "# Group all transaction information for each applicant such that even if the applicant have one bad transaction he will be \n",
    "# considered as BAD CUSTOMER\n",
    "cre_group=cre.groupby(\"ID\").agg(max).reset_index()"
   ]
  },
  {
   "cell_type": "code",
   "execution_count": 933,
   "metadata": {},
   "outputs": [
    {
     "data": {
      "text/plain": [
       "0    98.390794\n",
       "1     1.609206\n",
       "Name: STATUS, dtype: float64"
      ]
     },
     "execution_count": 933,
     "metadata": {},
     "output_type": "execute_result"
    }
   ],
   "source": [
    "cre_group.STATUS.value_counts(normalize=True)*100"
   ]
  },
  {
   "cell_type": "code",
   "execution_count": 934,
   "metadata": {},
   "outputs": [
    {
     "name": "stdout",
     "output_type": "stream",
     "text": [
      "(839345, 3)\n",
      "(41449, 3)\n"
     ]
    }
   ],
   "source": [
    "print(cre.shape)\n",
    "print(cre_group.shape)"
   ]
  },
  {
   "cell_type": "code",
   "execution_count": 935,
   "metadata": {},
   "outputs": [
    {
     "data": {
      "text/html": [
       "<div>\n",
       "<style scoped>\n",
       "    .dataframe tbody tr th:only-of-type {\n",
       "        vertical-align: middle;\n",
       "    }\n",
       "\n",
       "    .dataframe tbody tr th {\n",
       "        vertical-align: top;\n",
       "    }\n",
       "\n",
       "    .dataframe thead th {\n",
       "        text-align: right;\n",
       "    }\n",
       "</style>\n",
       "<table border=\"1\" class=\"dataframe\">\n",
       "  <thead>\n",
       "    <tr style=\"text-align: right;\">\n",
       "      <th></th>\n",
       "      <th>ID</th>\n",
       "      <th>MONTHS_BALANCE</th>\n",
       "      <th>STATUS</th>\n",
       "    </tr>\n",
       "  </thead>\n",
       "  <tbody>\n",
       "    <tr>\n",
       "      <th>0</th>\n",
       "      <td>5001711</td>\n",
       "      <td>-1</td>\n",
       "      <td>0</td>\n",
       "    </tr>\n",
       "    <tr>\n",
       "      <th>1</th>\n",
       "      <td>5001712</td>\n",
       "      <td>0</td>\n",
       "      <td>0</td>\n",
       "    </tr>\n",
       "    <tr>\n",
       "      <th>2</th>\n",
       "      <td>5001717</td>\n",
       "      <td>0</td>\n",
       "      <td>0</td>\n",
       "    </tr>\n",
       "    <tr>\n",
       "      <th>3</th>\n",
       "      <td>5001718</td>\n",
       "      <td>0</td>\n",
       "      <td>0</td>\n",
       "    </tr>\n",
       "    <tr>\n",
       "      <th>4</th>\n",
       "      <td>5001719</td>\n",
       "      <td>0</td>\n",
       "      <td>0</td>\n",
       "    </tr>\n",
       "  </tbody>\n",
       "</table>\n",
       "</div>"
      ],
      "text/plain": [
       "        ID  MONTHS_BALANCE  STATUS\n",
       "0  5001711              -1       0\n",
       "1  5001712               0       0\n",
       "2  5001717               0       0\n",
       "3  5001718               0       0\n",
       "4  5001719               0       0"
      ]
     },
     "execution_count": 935,
     "metadata": {},
     "output_type": "execute_result"
    }
   ],
   "source": [
    "cre_group.head()"
   ]
  },
  {
   "cell_type": "markdown",
   "metadata": {},
   "source": [
    "# Merging the two DataFrames"
   ]
  },
  {
   "cell_type": "code",
   "execution_count": 936,
   "metadata": {
    "scrolled": true
   },
   "outputs": [
    {
     "data": {
      "text/html": [
       "<div>\n",
       "<style scoped>\n",
       "    .dataframe tbody tr th:only-of-type {\n",
       "        vertical-align: middle;\n",
       "    }\n",
       "\n",
       "    .dataframe tbody tr th {\n",
       "        vertical-align: top;\n",
       "    }\n",
       "\n",
       "    .dataframe thead th {\n",
       "        text-align: right;\n",
       "    }\n",
       "</style>\n",
       "<table border=\"1\" class=\"dataframe\">\n",
       "  <thead>\n",
       "    <tr style=\"text-align: right;\">\n",
       "      <th></th>\n",
       "      <th>ID</th>\n",
       "      <th>CODE_GENDER</th>\n",
       "      <th>FLAG_OWN_CAR</th>\n",
       "      <th>FLAG_OWN_REALTY</th>\n",
       "      <th>CNT_CHILDREN</th>\n",
       "      <th>AMT_INCOME_TOTAL</th>\n",
       "      <th>NAME_INCOME_TYPE</th>\n",
       "      <th>NAME_EDUCATION_TYPE</th>\n",
       "      <th>NAME_FAMILY_STATUS</th>\n",
       "      <th>NAME_HOUSING_TYPE</th>\n",
       "      <th>DAYS_BIRTH</th>\n",
       "      <th>DAYS_EMPLOYED</th>\n",
       "      <th>FLAG_MOBIL</th>\n",
       "      <th>FLAG_WORK_PHONE</th>\n",
       "      <th>FLAG_PHONE</th>\n",
       "      <th>FLAG_EMAIL</th>\n",
       "      <th>OCCUPATION_TYPE</th>\n",
       "      <th>CNT_FAM_MEMBERS</th>\n",
       "      <th>MONTHS_BALANCE</th>\n",
       "      <th>STATUS</th>\n",
       "    </tr>\n",
       "  </thead>\n",
       "  <tbody>\n",
       "    <tr>\n",
       "      <th>0</th>\n",
       "      <td>5008804</td>\n",
       "      <td>M</td>\n",
       "      <td>Y</td>\n",
       "      <td>Y</td>\n",
       "      <td>0</td>\n",
       "      <td>427500.0</td>\n",
       "      <td>Working</td>\n",
       "      <td>Higher education</td>\n",
       "      <td>Civil marriage</td>\n",
       "      <td>Rented apartment</td>\n",
       "      <td>-12005</td>\n",
       "      <td>-4542</td>\n",
       "      <td>1</td>\n",
       "      <td>1</td>\n",
       "      <td>0</td>\n",
       "      <td>0</td>\n",
       "      <td>NaN</td>\n",
       "      <td>2</td>\n",
       "      <td>0</td>\n",
       "      <td>0</td>\n",
       "    </tr>\n",
       "    <tr>\n",
       "      <th>1</th>\n",
       "      <td>5008805</td>\n",
       "      <td>M</td>\n",
       "      <td>Y</td>\n",
       "      <td>Y</td>\n",
       "      <td>0</td>\n",
       "      <td>427500.0</td>\n",
       "      <td>Working</td>\n",
       "      <td>Higher education</td>\n",
       "      <td>Civil marriage</td>\n",
       "      <td>Rented apartment</td>\n",
       "      <td>-12005</td>\n",
       "      <td>-4542</td>\n",
       "      <td>1</td>\n",
       "      <td>1</td>\n",
       "      <td>0</td>\n",
       "      <td>0</td>\n",
       "      <td>NaN</td>\n",
       "      <td>2</td>\n",
       "      <td>0</td>\n",
       "      <td>0</td>\n",
       "    </tr>\n",
       "    <tr>\n",
       "      <th>2</th>\n",
       "      <td>5008806</td>\n",
       "      <td>M</td>\n",
       "      <td>Y</td>\n",
       "      <td>Y</td>\n",
       "      <td>0</td>\n",
       "      <td>112500.0</td>\n",
       "      <td>Working</td>\n",
       "      <td>Secondary / secondary special</td>\n",
       "      <td>Married</td>\n",
       "      <td>House / apartment</td>\n",
       "      <td>-21474</td>\n",
       "      <td>-1134</td>\n",
       "      <td>1</td>\n",
       "      <td>0</td>\n",
       "      <td>0</td>\n",
       "      <td>0</td>\n",
       "      <td>Security staff</td>\n",
       "      <td>2</td>\n",
       "      <td>0</td>\n",
       "      <td>0</td>\n",
       "    </tr>\n",
       "    <tr>\n",
       "      <th>3</th>\n",
       "      <td>5008808</td>\n",
       "      <td>F</td>\n",
       "      <td>N</td>\n",
       "      <td>Y</td>\n",
       "      <td>0</td>\n",
       "      <td>270000.0</td>\n",
       "      <td>Commercial associate</td>\n",
       "      <td>Secondary / secondary special</td>\n",
       "      <td>Single / not married</td>\n",
       "      <td>House / apartment</td>\n",
       "      <td>-19110</td>\n",
       "      <td>-3051</td>\n",
       "      <td>1</td>\n",
       "      <td>0</td>\n",
       "      <td>1</td>\n",
       "      <td>1</td>\n",
       "      <td>Sales staff</td>\n",
       "      <td>1</td>\n",
       "      <td>0</td>\n",
       "      <td>0</td>\n",
       "    </tr>\n",
       "    <tr>\n",
       "      <th>4</th>\n",
       "      <td>5008810</td>\n",
       "      <td>F</td>\n",
       "      <td>N</td>\n",
       "      <td>Y</td>\n",
       "      <td>0</td>\n",
       "      <td>270000.0</td>\n",
       "      <td>Commercial associate</td>\n",
       "      <td>Secondary / secondary special</td>\n",
       "      <td>Single / not married</td>\n",
       "      <td>House / apartment</td>\n",
       "      <td>-19110</td>\n",
       "      <td>-3051</td>\n",
       "      <td>1</td>\n",
       "      <td>0</td>\n",
       "      <td>1</td>\n",
       "      <td>1</td>\n",
       "      <td>Sales staff</td>\n",
       "      <td>1</td>\n",
       "      <td>0</td>\n",
       "      <td>0</td>\n",
       "    </tr>\n",
       "  </tbody>\n",
       "</table>\n",
       "</div>"
      ],
      "text/plain": [
       "        ID CODE_GENDER FLAG_OWN_CAR FLAG_OWN_REALTY  CNT_CHILDREN  \\\n",
       "0  5008804           M            Y               Y             0   \n",
       "1  5008805           M            Y               Y             0   \n",
       "2  5008806           M            Y               Y             0   \n",
       "3  5008808           F            N               Y             0   \n",
       "4  5008810           F            N               Y             0   \n",
       "\n",
       "   AMT_INCOME_TOTAL      NAME_INCOME_TYPE            NAME_EDUCATION_TYPE  \\\n",
       "0          427500.0               Working               Higher education   \n",
       "1          427500.0               Working               Higher education   \n",
       "2          112500.0               Working  Secondary / secondary special   \n",
       "3          270000.0  Commercial associate  Secondary / secondary special   \n",
       "4          270000.0  Commercial associate  Secondary / secondary special   \n",
       "\n",
       "     NAME_FAMILY_STATUS  NAME_HOUSING_TYPE  DAYS_BIRTH  DAYS_EMPLOYED  \\\n",
       "0        Civil marriage   Rented apartment      -12005          -4542   \n",
       "1        Civil marriage   Rented apartment      -12005          -4542   \n",
       "2               Married  House / apartment      -21474          -1134   \n",
       "3  Single / not married  House / apartment      -19110          -3051   \n",
       "4  Single / not married  House / apartment      -19110          -3051   \n",
       "\n",
       "   FLAG_MOBIL  FLAG_WORK_PHONE  FLAG_PHONE  FLAG_EMAIL OCCUPATION_TYPE  \\\n",
       "0           1                1           0           0             NaN   \n",
       "1           1                1           0           0             NaN   \n",
       "2           1                0           0           0  Security staff   \n",
       "3           1                0           1           1     Sales staff   \n",
       "4           1                0           1           1     Sales staff   \n",
       "\n",
       "   CNT_FAM_MEMBERS  MONTHS_BALANCE  STATUS  \n",
       "0                2               0       0  \n",
       "1                2               0       0  \n",
       "2                2               0       0  \n",
       "3                1               0       0  \n",
       "4                1               0       0  "
      ]
     },
     "execution_count": 936,
     "metadata": {},
     "output_type": "execute_result"
    }
   ],
   "source": [
    "df=pd.merge(app,cre_group,on=\"ID\")\n",
    "df.head()"
   ]
  },
  {
   "cell_type": "code",
   "execution_count": 937,
   "metadata": {},
   "outputs": [],
   "source": [
    "# Just creating a copy of the original data for future reference\n",
    "df1=pd.DataFrame\n",
    "df1=df"
   ]
  },
  {
   "cell_type": "markdown",
   "metadata": {},
   "source": [
    "# FEATURE SELECTION"
   ]
  },
  {
   "cell_type": "code",
   "execution_count": 938,
   "metadata": {},
   "outputs": [
    {
     "data": {
      "text/plain": [
       "(33110, 20)"
      ]
     },
     "execution_count": 938,
     "metadata": {},
     "output_type": "execute_result"
    }
   ],
   "source": [
    "df.shape"
   ]
  },
  {
   "cell_type": "code",
   "execution_count": 939,
   "metadata": {},
   "outputs": [
    {
     "data": {
      "text/plain": [
       "(33110, 20)"
      ]
     },
     "execution_count": 939,
     "metadata": {},
     "output_type": "execute_result"
    }
   ],
   "source": [
    "df.shape"
   ]
  },
  {
   "cell_type": "code",
   "execution_count": 940,
   "metadata": {},
   "outputs": [
    {
     "data": {
      "text/plain": [
       "ID                         0\n",
       "CODE_GENDER                0\n",
       "FLAG_OWN_CAR               0\n",
       "FLAG_OWN_REALTY            0\n",
       "CNT_CHILDREN               0\n",
       "AMT_INCOME_TOTAL           0\n",
       "NAME_INCOME_TYPE           0\n",
       "NAME_EDUCATION_TYPE        0\n",
       "NAME_FAMILY_STATUS         0\n",
       "NAME_HOUSING_TYPE          0\n",
       "DAYS_BIRTH                 0\n",
       "DAYS_EMPLOYED              0\n",
       "FLAG_MOBIL                 0\n",
       "FLAG_WORK_PHONE            0\n",
       "FLAG_PHONE                 0\n",
       "FLAG_EMAIL                 0\n",
       "OCCUPATION_TYPE        10373\n",
       "CNT_FAM_MEMBERS            0\n",
       "MONTHS_BALANCE             0\n",
       "STATUS                     0\n",
       "dtype: int64"
      ]
     },
     "execution_count": 940,
     "metadata": {},
     "output_type": "execute_result"
    }
   ],
   "source": [
    "df.isnull().sum()"
   ]
  },
  {
   "cell_type": "code",
   "execution_count": 941,
   "metadata": {},
   "outputs": [
    {
     "data": {
      "text/plain": [
       "Laborers                 5601\n",
       "Core staff               3250\n",
       "Sales staff              3156\n",
       "Managers                 2695\n",
       "Drivers                  1934\n",
       "High skill tech staff    1269\n",
       "Medicine staff           1124\n",
       "Accountants              1106\n",
       "Cooking staff             587\n",
       "Security staff            547\n",
       "Cleaning staff            511\n",
       "Private service staff     293\n",
       "Waiters/barmen staff      163\n",
       "Low-skill Laborers        159\n",
       "Secretaries               142\n",
       "HR staff                   76\n",
       "Realty agents              67\n",
       "IT staff                   57\n",
       "Name: OCCUPATION_TYPE, dtype: int64"
      ]
     },
     "execution_count": 941,
     "metadata": {},
     "output_type": "execute_result"
    }
   ],
   "source": [
    "df.OCCUPATION_TYPE.value_counts()"
   ]
  },
  {
   "cell_type": "code",
   "execution_count": 942,
   "metadata": {},
   "outputs": [],
   "source": [
    "# Since almost 30% values of OCCUPATION_TYPE is missing we should not impute it because imputing may cause bias in data\n",
    "# so droping the coloumn OCCUPATION_TYPE"
   ]
  },
  {
   "cell_type": "code",
   "execution_count": 943,
   "metadata": {},
   "outputs": [
    {
     "data": {
      "text/plain": [
       "(33110, 19)"
      ]
     },
     "execution_count": 943,
     "metadata": {},
     "output_type": "execute_result"
    }
   ],
   "source": [
    "df.drop(\"OCCUPATION_TYPE\",axis=1,inplace=True)\n",
    "df.shape"
   ]
  },
  {
   "cell_type": "code",
   "execution_count": 944,
   "metadata": {},
   "outputs": [],
   "source": [
    "# The variable \"MONTHS_BALANCE\" was significant before grouping the data, now it has no significance \n",
    "# so droping \"MONTHS_BALANCE\""
   ]
  },
  {
   "cell_type": "code",
   "execution_count": 945,
   "metadata": {},
   "outputs": [
    {
     "data": {
      "text/plain": [
       "(33110, 18)"
      ]
     },
     "execution_count": 945,
     "metadata": {},
     "output_type": "execute_result"
    }
   ],
   "source": [
    "df.drop(\"MONTHS_BALANCE\",axis=1,inplace=True)\n",
    "df.shape"
   ]
  },
  {
   "cell_type": "code",
   "execution_count": 946,
   "metadata": {},
   "outputs": [
    {
     "name": "stdout",
     "output_type": "stream",
     "text": [
      "Value counts for  ID  :\n",
      "5048319    1\n",
      "5041559    1\n",
      "5090655    1\n",
      "5068128    1\n",
      "5139815    1\n",
      "          ..\n",
      "5067487    1\n",
      "5024480    1\n",
      "5022433    1\n",
      "5028578    1\n",
      "5048321    1\n",
      "Name: ID, Length: 33110, dtype: int64\n",
      "Value counts for  CODE_GENDER  :\n",
      "F    22220\n",
      "M    10890\n",
      "Name: CODE_GENDER, dtype: int64\n",
      "Value counts for  FLAG_OWN_CAR  :\n",
      "N    20618\n",
      "Y    12492\n",
      "Name: FLAG_OWN_CAR, dtype: int64\n",
      "Value counts for  FLAG_OWN_REALTY  :\n",
      "Y    22288\n",
      "N    10822\n",
      "Name: FLAG_OWN_REALTY, dtype: int64\n",
      "Value counts for  CNT_CHILDREN  :\n",
      "0     22959\n",
      "1      6731\n",
      "2      2967\n",
      "3       380\n",
      "4        52\n",
      "5        15\n",
      "14        3\n",
      "7         2\n",
      "19        1\n",
      "Name: CNT_CHILDREN, dtype: int64\n",
      "Value counts for  AMT_INCOME_TOTAL  :\n",
      "135000.0    3891\n",
      "180000.0    2826\n",
      "157500.0    2778\n",
      "112500.0    2722\n",
      "225000.0    2669\n",
      "            ... \n",
      "531000.0       1\n",
      "661500.0       1\n",
      "227250.0       1\n",
      "145350.0       1\n",
      "204750.0       1\n",
      "Name: AMT_INCOME_TOTAL, Length: 258, dtype: int64\n",
      "Value counts for  NAME_INCOME_TYPE  :\n",
      "Working                 17077\n",
      "Commercial associate     7627\n",
      "Pensioner                5659\n",
      "State servant            2736\n",
      "Student                    11\n",
      "Name: NAME_INCOME_TYPE, dtype: int64\n",
      "Value counts for  NAME_EDUCATION_TYPE  :\n",
      "Secondary / secondary special    22554\n",
      "Higher education                  8891\n",
      "Incomplete higher                 1292\n",
      "Lower secondary                    344\n",
      "Academic degree                     29\n",
      "Name: NAME_EDUCATION_TYPE, dtype: int64\n",
      "Value counts for  NAME_FAMILY_STATUS  :\n",
      "Married                 22725\n",
      "Single / not married     4433\n",
      "Civil marriage           2656\n",
      "Separated                1908\n",
      "Widow                    1388\n",
      "Name: NAME_FAMILY_STATUS, dtype: int64\n",
      "Value counts for  NAME_HOUSING_TYPE  :\n",
      "House / apartment      29579\n",
      "With parents            1598\n",
      "Municipal apartment     1015\n",
      "Rented apartment         536\n",
      "Office apartment         242\n",
      "Co-op apartment          140\n",
      "Name: NAME_HOUSING_TYPE, dtype: int64\n",
      "Value counts for  DAYS_BIRTH  :\n",
      "-15519    54\n",
      "-12676    53\n",
      "-14667    33\n",
      "-16896    33\n",
      "-16768    32\n",
      "          ..\n",
      "-14965     1\n",
      "-12854     1\n",
      "-18971     1\n",
      "-12822     1\n",
      "-16101     1\n",
      "Name: DAYS_BIRTH, Length: 6960, dtype: int64\n",
      "Value counts for  DAYS_EMPLOYED  :\n",
      " 365243    5642\n",
      "-401         62\n",
      "-1539        61\n",
      "-1678        57\n",
      "-2087        57\n",
      "           ... \n",
      "-898          1\n",
      "-3621         1\n",
      "-7687         1\n",
      "-9094         1\n",
      "-1289         1\n",
      "Name: DAYS_EMPLOYED, Length: 3566, dtype: int64\n",
      "Value counts for  FLAG_MOBIL  :\n",
      "1    33110\n",
      "Name: FLAG_MOBIL, dtype: int64\n",
      "Value counts for  FLAG_WORK_PHONE  :\n",
      "0    25693\n",
      "1     7417\n",
      "Name: FLAG_WORK_PHONE, dtype: int64\n",
      "Value counts for  FLAG_PHONE  :\n",
      "0    23428\n",
      "1     9682\n",
      "Name: FLAG_PHONE, dtype: int64\n",
      "Value counts for  FLAG_EMAIL  :\n",
      "0    30117\n",
      "1     2993\n",
      "Name: FLAG_EMAIL, dtype: int64\n",
      "Value counts for  CNT_FAM_MEMBERS  :\n",
      "2     17759\n",
      "1      6366\n",
      "3      5718\n",
      "4      2837\n",
      "5       362\n",
      "6        48\n",
      "7        14\n",
      "15        3\n",
      "9         2\n",
      "20        1\n",
      "Name: CNT_FAM_MEMBERS, dtype: int64\n",
      "Value counts for  STATUS  :\n",
      "0    32494\n",
      "1      616\n",
      "Name: STATUS, dtype: int64\n"
     ]
    }
   ],
   "source": [
    "for i in df.columns:\n",
    "    print(\"Value counts for \",i,\" :\")\n",
    "    print(df[i].value_counts())"
   ]
  },
  {
   "cell_type": "code",
   "execution_count": 947,
   "metadata": {},
   "outputs": [],
   "source": [
    "# The variable FLAG_MOBIL only contains one unique value so its of no significance to the model\n",
    "# Also the variable FLAG_EMAIL only gives information about if there is a email present or not so it is also of no \n",
    "# significance to the model\n",
    "#  So droping FLAG_MOBIL and FLAG_EMAIL"
   ]
  },
  {
   "cell_type": "code",
   "execution_count": 948,
   "metadata": {},
   "outputs": [
    {
     "data": {
      "text/plain": [
       "(33110, 16)"
      ]
     },
     "execution_count": 948,
     "metadata": {},
     "output_type": "execute_result"
    }
   ],
   "source": [
    "df.drop(\"FLAG_MOBIL\",axis=1,inplace=True)\n",
    "df.drop(\"FLAG_EMAIL\",axis=1,inplace=True)\n",
    "df.shape"
   ]
  },
  {
   "cell_type": "code",
   "execution_count": 949,
   "metadata": {},
   "outputs": [],
   "source": [
    "# The variables FLAG_WORK_PHONE and FLAG_PHONE only gives information about, is there a work phone and is there a phone present\n",
    "# So these two variables also dont seem to be of any significance, we will check there significance using feature_importances_()\n",
    "# in Decission Tree model"
   ]
  },
  {
   "cell_type": "code",
   "execution_count": 950,
   "metadata": {},
   "outputs": [],
   "source": [
    "# Converting 'DAYS_BIRTH' values from number of days to Years and changing its name to 'AGE'\n",
    "df['DAYS_BIRTH'] = round(df['DAYS_BIRTH']/-365,0)\n",
    "df.rename(columns={'DAYS_BIRTH':'AGE'}, inplace=True)"
   ]
  },
  {
   "cell_type": "code",
   "execution_count": 951,
   "metadata": {},
   "outputs": [
    {
     "data": {
      "text/plain": [
       "0        33.0\n",
       "1        33.0\n",
       "2        59.0\n",
       "3        52.0\n",
       "4        52.0\n",
       "         ... \n",
       "33105    30.0\n",
       "33106    30.0\n",
       "33107    30.0\n",
       "33108    30.0\n",
       "33109    53.0\n",
       "Name: AGE, Length: 33110, dtype: float64"
      ]
     },
     "execution_count": 951,
     "metadata": {},
     "output_type": "execute_result"
    }
   ],
   "source": [
    "df.AGE"
   ]
  },
  {
   "cell_type": "code",
   "execution_count": 952,
   "metadata": {},
   "outputs": [],
   "source": [
    "# While viewing the value_counts we noticed that in DAYS_EMPLOYED there are some values which are positive which means the\n",
    "# person is unemployed, so first we will convert the positive values to 0 days and then we will convert number of days into \n",
    "# number of years"
   ]
  },
  {
   "cell_type": "code",
   "execution_count": 953,
   "metadata": {},
   "outputs": [
    {
     "data": {
      "text/plain": [
       "array([365243], dtype=int64)"
      ]
     },
     "execution_count": 953,
     "metadata": {},
     "output_type": "execute_result"
    }
   ],
   "source": [
    "# Checking unique positive values\n",
    "df[df['DAYS_EMPLOYED']>0]['DAYS_EMPLOYED'].unique()"
   ]
  },
  {
   "cell_type": "code",
   "execution_count": 954,
   "metadata": {},
   "outputs": [],
   "source": [
    "# there is only one unique positive value, replacing it with 0"
   ]
  },
  {
   "cell_type": "code",
   "execution_count": 955,
   "metadata": {},
   "outputs": [],
   "source": [
    "df['DAYS_EMPLOYED'].replace(365243, 0, inplace=True)"
   ]
  },
  {
   "cell_type": "code",
   "execution_count": 956,
   "metadata": {},
   "outputs": [],
   "source": [
    "# Converting 'DAYS_EMPLOYED' values from number of days to number of years and renaming the column to 'YEARS_EMPLOYED'\n",
    "df['DAYS_EMPLOYED'] = round(df['DAYS_EMPLOYED']/-365,0)\n",
    "df.rename(columns={'DAYS_EMPLOYED':'YEARS_EMPLOYED'}, inplace=True)"
   ]
  },
  {
   "cell_type": "code",
   "execution_count": 957,
   "metadata": {},
   "outputs": [
    {
     "data": {
      "text/plain": [
       "0        12.0\n",
       "1        12.0\n",
       "2         3.0\n",
       "3         8.0\n",
       "4         8.0\n",
       "         ... \n",
       "33105     5.0\n",
       "33106     5.0\n",
       "33107     5.0\n",
       "33108     5.0\n",
       "33109     6.0\n",
       "Name: YEARS_EMPLOYED, Length: 33110, dtype: float64"
      ]
     },
     "execution_count": 957,
     "metadata": {},
     "output_type": "execute_result"
    }
   ],
   "source": [
    "df.YEARS_EMPLOYED"
   ]
  },
  {
   "cell_type": "code",
   "execution_count": 958,
   "metadata": {},
   "outputs": [],
   "source": [
    "# ploting the frequencies of ages of people"
   ]
  },
  {
   "cell_type": "code",
   "execution_count": 959,
   "metadata": {},
   "outputs": [
    {
     "data": {
      "text/plain": [
       "<matplotlib.axes._subplots.AxesSubplot at 0x1919790c7f0>"
      ]
     },
     "execution_count": 959,
     "metadata": {},
     "output_type": "execute_result"
    },
    {
     "data": {
      "image/png": "[encoded data removed]",
      "text/plain": [
       "<Figure size 432x288 with 1 Axes>"
      ]
     },
     "metadata": {
      "needs_background": "light"
     },
     "output_type": "display_data"
    }
   ],
   "source": [
    "df['AGE'].plot(kind='hist',bins=30)"
   ]
  },
  {
   "cell_type": "code",
   "execution_count": 960,
   "metadata": {},
   "outputs": [
    {
     "data": {
      "text/plain": [
       "'On seeing the plot we can say that most of the people applying for the credit card are aged between 30 to 40 years old'"
      ]
     },
     "execution_count": 960,
     "metadata": {},
     "output_type": "execute_result"
    }
   ],
   "source": [
    "\"\"\"On seeing the plot we can say that most of the people applying for the credit card are aged between 30 to 40 years old\"\"\""
   ]
  },
  {
   "cell_type": "code",
   "execution_count": 961,
   "metadata": {},
   "outputs": [],
   "source": [
    "# ploting the frequencies of number of years of people have been employed"
   ]
  },
  {
   "cell_type": "code",
   "execution_count": 962,
   "metadata": {},
   "outputs": [
    {
     "data": {
      "text/plain": [
       "<matplotlib.axes._subplots.AxesSubplot at 0x191978f91c0>"
      ]
     },
     "execution_count": 962,
     "metadata": {},
     "output_type": "execute_result"
    },
    {
     "data": {
      "image/png": "[encoded data removed]",
      "text/plain": [
       "<Figure size 432x288 with 1 Axes>"
      ]
     },
     "metadata": {
      "needs_background": "light"
     },
     "output_type": "display_data"
    }
   ],
   "source": [
    "df['YEARS_EMPLOYED'].plot(kind='hist',bins=50)"
   ]
  },
  {
   "cell_type": "code",
   "execution_count": 963,
   "metadata": {},
   "outputs": [
    {
     "data": {
      "text/plain": [
       "'It is obviously clear that a lot of unemployed people are applying for credit card and the number of newly employed applicants is also high'"
      ]
     },
     "execution_count": 963,
     "metadata": {},
     "output_type": "execute_result"
    }
   ],
   "source": [
    "\"\"\"It is obviously clear that a lot of unemployed people are applying for credit card and the number of newly employed applicants is also high\"\"\""
   ]
  },
  {
   "cell_type": "code",
   "execution_count": 964,
   "metadata": {},
   "outputs": [
    {
     "data": {
      "text/plain": [
       "Text(0, 0.5, 'Number of Customers')"
      ]
     },
     "execution_count": 964,
     "metadata": {},
     "output_type": "execute_result"
    },
    {
     "data": {
      "image/png": "[encoded data removed]",
      "text/plain": [
       "<Figure size 720x432 with 1 Axes>"
      ]
     },
     "metadata": {
      "needs_background": "light"
     },
     "output_type": "display_data"
    }
   ],
   "source": [
    "plt.figure(figsize=(10,6))\n",
    "df[df['STATUS']==1]['YEARS_EMPLOYED'].plot(kind='hist',alpha=0.7,color='Red', bins=50,label='Bad Customers')\n",
    "df[df['STATUS']==0]['YEARS_EMPLOYED'].plot(kind='hist',alpha=0.3,color='Blue', bins=50,label='Good Customers')\n",
    "                                                    \n",
    "plt.title('Customers around the number of years emplpoyed')                                                    \n",
    "plt.legend()\n",
    "plt.xlabel('Number of years employed')\n",
    "plt.ylabel('Number of Customers')\n",
    "# aplha value is passed for transparency"
   ]
  },
  {
   "cell_type": "code",
   "execution_count": null,
   "metadata": {},
   "outputs": [],
   "source": []
  },
  {
   "cell_type": "code",
   "execution_count": 965,
   "metadata": {},
   "outputs": [
    {
     "data": {
      "text/plain": [
       "<matplotlib.legend.Legend at 0x19197bb8eb0>"
      ]
     },
     "execution_count": 965,
     "metadata": {},
     "output_type": "execute_result"
    },
    {
     "data": {
      "image/png": "[encoded data removed]",
      "text/plain": [
       "<Figure size 720x432 with 1 Axes>"
      ]
     },
     "metadata": {
      "needs_background": "light"
     },
     "output_type": "display_data"
    }
   ],
   "source": [
    "pd.crosstab(df.CODE_GENDER,df.STATUS).plot(kind='bar',figsize=(10,6))\n",
    "plt.title('GENDER vs STATUS')\n",
    "plt.xlabel('GENDER')\n",
    "plt.ylabel('Number of Customers')\n",
    "plt.legend(labels = [\"Good Customer\", \"Bad Customer\"])"
   ]
  },
  {
   "cell_type": "code",
   "execution_count": 966,
   "metadata": {},
   "outputs": [
    {
     "data": {
      "text/plain": [
       "<matplotlib.legend.Legend at 0x19197bb8dc0>"
      ]
     },
     "execution_count": 966,
     "metadata": {},
     "output_type": "execute_result"
    },
    {
     "data": {
      "image/png": "[encoded data removed]",
      "text/plain": [
       "<Figure size 864x432 with 1 Axes>"
      ]
     },
     "metadata": {
      "needs_background": "light"
     },
     "output_type": "display_data"
    }
   ],
   "source": [
    "pd.crosstab(df.NAME_INCOME_TYPE, df.STATUS).plot(kind='bar', figsize=(12,6))\n",
    "plt.title('Customers across various Income Types')\n",
    "plt.xlabel('Income Type')\n",
    "plt.ylabel('Number of Customers')\n",
    "plt.legend(labels = [\"Good Customer\", \"Bad Customer\"])"
   ]
  },
  {
   "cell_type": "code",
   "execution_count": 967,
   "metadata": {},
   "outputs": [],
   "source": [
    "# number of observations having value equals to Student in NAME_INCOME_TYPE is only 11 thats why it is showing on the graph"
   ]
  },
  {
   "cell_type": "code",
   "execution_count": 968,
   "metadata": {},
   "outputs": [
    {
     "data": {
      "text/plain": [
       "<seaborn.axisgrid.PairGrid at 0x19197c42760>"
      ]
     },
     "execution_count": 968,
     "metadata": {},
     "output_type": "execute_result"
    },
    {
     "data": {
      "image/png": "[encoded data removed]",
      "text/plain": [
       "<Figure size 1080x1080 with 42 Axes>"
      ]
     },
     "metadata": {
      "needs_background": "light"
     },
     "output_type": "display_data"
    }
   ],
   "source": [
    "sns.pairplot(df[['STATUS', 'AMT_INCOME_TOTAL', 'AGE', 'YEARS_EMPLOYED', 'CNT_FAM_MEMBERS', 'CNT_CHILDREN']])"
   ]
  },
  {
   "cell_type": "code",
   "execution_count": 969,
   "metadata": {},
   "outputs": [],
   "source": [
    "# From the above pairplot we cannot see lot of relation between the variables, we can just say that number of years employed is \n",
    "# restricted by AGE which is obvious"
   ]
  },
  {
   "cell_type": "markdown",
   "metadata": {},
   "source": [
    "# Generating boxplots for numerical variables"
   ]
  },
  {
   "cell_type": "code",
   "execution_count": 970,
   "metadata": {
    "scrolled": false
   },
   "outputs": [
    {
     "data": {
      "image/png": "[encoded data removed]",
      "text/plain": [
       "<Figure size 432x288 with 1 Axes>"
      ]
     },
     "metadata": {
      "needs_background": "light"
     },
     "output_type": "display_data"
    },
    {
     "data": {
      "image/png": "[encoded data removed]",
      "text/plain": [
       "<Figure size 432x288 with 1 Axes>"
      ]
     },
     "metadata": {
      "needs_background": "light"
     },
     "output_type": "display_data"
    },
    {
     "data": {
      "image/png": "[encoded data removed]",
      "text/plain": [
       "<Figure size 432x288 with 1 Axes>"
      ]
     },
     "metadata": {
      "needs_background": "light"
     },
     "output_type": "display_data"
    },
    {
     "data": {
      "image/png": "[encoded data removed]",
      "text/plain": [
       "<Figure size 432x288 with 1 Axes>"
      ]
     },
     "metadata": {
      "needs_background": "light"
     },
     "output_type": "display_data"
    },
    {
     "data": {
      "image/png": "[encoded data removed]",
      "text/plain": [
       "<Figure size 432x288 with 1 Axes>"
      ]
     },
     "metadata": {
      "needs_background": "light"
     },
     "output_type": "display_data"
    },
    {
     "data": {
      "image/png": "[encoded data removed]",
      "text/plain": [
       "<Figure size 432x288 with 1 Axes>"
      ]
     },
     "metadata": {
      "needs_background": "light"
     },
     "output_type": "display_data"
    },
    {
     "data": {
      "image/png": "[encoded data removed]",
      "text/plain": [
       "<Figure size 432x288 with 1 Axes>"
      ]
     },
     "metadata": {
      "needs_background": "light"
     },
     "output_type": "display_data"
    },
    {
     "data": {
      "image/png": "[encoded data removed]",
      "text/plain": [
       "<Figure size 432x288 with 1 Axes>"
      ]
     },
     "metadata": {
      "needs_background": "light"
     },
     "output_type": "display_data"
    }
   ],
   "source": [
    "\n",
    "colname=[]\n",
    "for x in df.columns[:-1]:\n",
    "    if df[x].dtype==\"int64\" or df[x].dtype==\"float64\":\n",
    "        colname.append(x)\n",
    " \n",
    "for x in colname:\n",
    "    df.boxplot(column=x)\n",
    "    plt.show()"
   ]
  },
  {
   "cell_type": "code",
   "execution_count": 971,
   "metadata": {},
   "outputs": [],
   "source": [
    "q1 = df['CNT_CHILDREN'].quantile(0.25) #first quartile value\n",
    "q3 = df['CNT_CHILDREN'].quantile(0.75) # third quartile value\n",
    "iqr = q3-q1 #Interquartile range\n",
    "low  = q1-1.5*iqr\n",
    "high = q3+1.5*iqr \n"
   ]
  },
  {
   "cell_type": "code",
   "execution_count": 972,
   "metadata": {
    "scrolled": true
   },
   "outputs": [
    {
     "name": "stdout",
     "output_type": "stream",
     "text": [
      "-1.5 \t 2.5 \n",
      " 0.0 \t 1.0\n"
     ]
    }
   ],
   "source": [
    "print(low,\"\\t\",high,\"\\n\",q1,\"\\t\",q3)"
   ]
  },
  {
   "cell_type": "code",
   "execution_count": 973,
   "metadata": {
    "scrolled": true
   },
   "outputs": [
    {
     "data": {
      "text/plain": [
       "0     22959\n",
       "1      6731\n",
       "2      2967\n",
       "3       380\n",
       "4        52\n",
       "5        15\n",
       "14        3\n",
       "7         2\n",
       "19        1\n",
       "Name: CNT_CHILDREN, dtype: int64"
      ]
     },
     "execution_count": 973,
     "metadata": {},
     "output_type": "execute_result"
    }
   ],
   "source": [
    "df.CNT_CHILDREN.value_counts()"
   ]
  },
  {
   "cell_type": "code",
   "execution_count": 974,
   "metadata": {},
   "outputs": [],
   "source": [
    "# Instead of going with the generally used criteria for outlier handling I am using different value for upper limit\n",
    "# Since it is possible for a family to have 5 children so instead of going with 2.5 I am considering 5\n",
    "# as the upper limit\n",
    "high = 5"
   ]
  },
  {
   "cell_type": "code",
   "execution_count": 975,
   "metadata": {},
   "outputs": [
    {
     "name": "stderr",
     "output_type": "stream",
     "text": [
      "<ipython-input-975-79bc05841dbe>:4: SettingWithCopyWarning: \n",
      "A value is trying to be set on a copy of a slice from a DataFrame.\n",
      "Try using .loc[row_indexer,col_indexer] = value instead\n",
      "\n",
      "See the caveats in the documentation: https://pandas.pydata.org/pandas-docs/stable/user_guide/indexing.html#returning-a-view-versus-a-copy\n",
      "  df_exclude['CNT_CHILDREN']=mean\n"
     ]
    },
    {
     "data": {
      "text/plain": [
       "(33110, 16)"
      ]
     },
     "execution_count": 975,
     "metadata": {},
     "output_type": "execute_result"
    }
   ],
   "source": [
    "df_include = df.loc[(df['CNT_CHILDREN'] >= low) & (df['CNT_CHILDREN'] <= high)] # meeting the acceptable range\n",
    "df_exclude = df.loc[(df['CNT_CHILDREN'] < low) | (df['CNT_CHILDREN'] > high)] #not meeting the acceptable range\n",
    "mean=int(df_include['CNT_CHILDREN'].mean())\n",
    "df_exclude['CNT_CHILDREN']=mean\n",
    "#getting back the original shape of df\n",
    "df=pd.concat([df_include,df_exclude],axis=0) #concatenating both dfs to get \n",
    "#the original shape\n",
    "df.shape"
   ]
  },
  {
   "cell_type": "code",
   "execution_count": 976,
   "metadata": {},
   "outputs": [
    {
     "data": {
      "text/plain": [
       "0"
      ]
     },
     "execution_count": 976,
     "metadata": {},
     "output_type": "execute_result"
    }
   ],
   "source": [
    "int(df_include.CNT_CHILDREN.mean())"
   ]
  },
  {
   "cell_type": "code",
   "execution_count": 977,
   "metadata": {},
   "outputs": [
    {
     "data": {
      "text/plain": [
       "0"
      ]
     },
     "execution_count": 977,
     "metadata": {},
     "output_type": "execute_result"
    }
   ],
   "source": [
    "mean"
   ]
  },
  {
   "cell_type": "code",
   "execution_count": 978,
   "metadata": {},
   "outputs": [
    {
     "data": {
      "text/plain": [
       "0    22965\n",
       "1     6731\n",
       "2     2967\n",
       "3      380\n",
       "4       52\n",
       "5       15\n",
       "Name: CNT_CHILDREN, dtype: int64"
      ]
     },
     "execution_count": 978,
     "metadata": {},
     "output_type": "execute_result"
    }
   ],
   "source": [
    "df.CNT_CHILDREN.value_counts()"
   ]
  },
  {
   "cell_type": "code",
   "execution_count": 979,
   "metadata": {},
   "outputs": [
    {
     "name": "stdout",
     "output_type": "stream",
     "text": [
      "0.5 \t 4.5 \n",
      " 2.0 \t 3.0\n"
     ]
    }
   ],
   "source": [
    "q1 = df['CNT_FAM_MEMBERS'].quantile(0.25) #first quartile value\n",
    "q3 = df['CNT_FAM_MEMBERS'].quantile(0.75) # third quartile value\n",
    "iqr = q3-q1 #Interquartile range\n",
    "low  = q1-1.5*iqr\n",
    "high = q3+1.5*iqr \n",
    "print(low,\"\\t\",high,\"\\n\",q1,\"\\t\",q3)"
   ]
  },
  {
   "cell_type": "markdown",
   "metadata": {},
   "source": [
    "Instead of going with the generally used criteria for outlier handling I am using different value for upper limit\n",
    "A person can have a family of upto 10 members so instead of 4.5 using 10 as the upper limit \n"
   ]
  },
  {
   "cell_type": "code",
   "execution_count": 980,
   "metadata": {},
   "outputs": [
    {
     "data": {
      "text/plain": [
       "2     17759\n",
       "1      6366\n",
       "3      5718\n",
       "4      2837\n",
       "5       362\n",
       "6        48\n",
       "7        14\n",
       "15        3\n",
       "9         2\n",
       "20        1\n",
       "Name: CNT_FAM_MEMBERS, dtype: int64"
      ]
     },
     "execution_count": 980,
     "metadata": {},
     "output_type": "execute_result"
    }
   ],
   "source": [
    "df.CNT_FAM_MEMBERS.value_counts()"
   ]
  },
  {
   "cell_type": "code",
   "execution_count": 981,
   "metadata": {},
   "outputs": [],
   "source": [
    "# Instead of going with the generally used criteria for outlier handling I am using different value for upper limit\n",
    "# A person can have a family of upto 10 members so instead of 4.5 using 10 as the upper limit \n",
    "high=10"
   ]
  },
  {
   "cell_type": "code",
   "execution_count": 982,
   "metadata": {},
   "outputs": [
    {
     "name": "stderr",
     "output_type": "stream",
     "text": [
      "<ipython-input-982-46b189b86a66>:4: SettingWithCopyWarning: \n",
      "A value is trying to be set on a copy of a slice from a DataFrame.\n",
      "Try using .loc[row_indexer,col_indexer] = value instead\n",
      "\n",
      "See the caveats in the documentation: https://pandas.pydata.org/pandas-docs/stable/user_guide/indexing.html#returning-a-view-versus-a-copy\n",
      "  df_exclude['CNT_FAM_MEMBERS']=mean\n"
     ]
    },
    {
     "data": {
      "text/plain": [
       "(33110, 16)"
      ]
     },
     "execution_count": 982,
     "metadata": {},
     "output_type": "execute_result"
    }
   ],
   "source": [
    "df_include = df.loc[(df['CNT_FAM_MEMBERS'] >= low) & (df['CNT_FAM_MEMBERS'] <= high)] # meeting the acceptable range\n",
    "df_exclude = df.loc[(df['CNT_FAM_MEMBERS'] < low) | (df['CNT_FAM_MEMBERS'] > high)] #not meeting the acceptable range\n",
    "mean=int(df_include['CNT_FAM_MEMBERS'].mean())\n",
    "df_exclude['CNT_FAM_MEMBERS']=mean\n",
    "#getting back the original shape of df\n",
    "df=pd.concat([df_include,df_exclude],axis=0) #concatenating both dfs to get \n",
    "#the original shape\n",
    "df.shape"
   ]
  },
  {
   "cell_type": "code",
   "execution_count": 983,
   "metadata": {},
   "outputs": [
    {
     "data": {
      "text/plain": [
       "2    17763\n",
       "1     6366\n",
       "3     5718\n",
       "4     2837\n",
       "5      362\n",
       "6       48\n",
       "7       14\n",
       "9        2\n",
       "Name: CNT_FAM_MEMBERS, dtype: int64"
      ]
     },
     "execution_count": 983,
     "metadata": {},
     "output_type": "execute_result"
    }
   ],
   "source": [
    "df.CNT_FAM_MEMBERS.value_counts()"
   ]
  },
  {
   "cell_type": "code",
   "execution_count": 984,
   "metadata": {},
   "outputs": [],
   "source": [
    "# Outliers in the remaining variables seem to be appropriate, so not treating them"
   ]
  },
  {
   "cell_type": "code",
   "execution_count": 985,
   "metadata": {},
   "outputs": [],
   "source": [
    "# The data in variable \"ID\" is of no use for model building so droping \"ID\"\n",
    "df.drop(\"ID\",axis=1,inplace=True)"
   ]
  },
  {
   "cell_type": "code",
   "execution_count": 986,
   "metadata": {},
   "outputs": [
    {
     "data": {
      "text/plain": [
       "23706"
      ]
     },
     "execution_count": 986,
     "metadata": {},
     "output_type": "execute_result"
    }
   ],
   "source": [
    "df.duplicated().sum()"
   ]
  },
  {
   "cell_type": "code",
   "execution_count": 987,
   "metadata": {},
   "outputs": [],
   "source": [
    "df.drop_duplicates(inplace=True)"
   ]
  },
  {
   "cell_type": "code",
   "execution_count": 988,
   "metadata": {},
   "outputs": [
    {
     "data": {
      "text/plain": [
       "(9404, 15)"
      ]
     },
     "execution_count": 988,
     "metadata": {},
     "output_type": "execute_result"
    }
   ],
   "source": [
    "df.shape"
   ]
  },
  {
   "cell_type": "code",
   "execution_count": 989,
   "metadata": {},
   "outputs": [
    {
     "data": {
      "text/plain": [
       "<matplotlib.axes._subplots.AxesSubplot at 0x19190897b80>"
      ]
     },
     "execution_count": 989,
     "metadata": {},
     "output_type": "execute_result"
    },
    {
     "data": {
      "image/png": "[encoded data removed]",
      "text/plain": [
       "<Figure size 864x720 with 2 Axes>"
      ]
     },
     "metadata": {
      "needs_background": "light"
     },
     "output_type": "display_data"
    }
   ],
   "source": [
    "# Generating a heatmap for correlation matrix\n",
    "plt.figure(figsize=(12,10))\n",
    "\n",
    "corr = df.corr()\n",
    "sns.heatmap(corr, \n",
    "        xticklabels=corr.columns,\n",
    "        yticklabels=corr.columns,annot=True,vmin=-1,vmax=1, cmap=\"YlGnBu\")"
   ]
  },
  {
   "cell_type": "code",
   "execution_count": 990,
   "metadata": {},
   "outputs": [],
   "source": [
    "# since there is a high correlation between \"CNT_CHILDREN\" and \"CNT_FAM_MEMBAERS\", droping \"CNT_CHILDREN\""
   ]
  },
  {
   "cell_type": "code",
   "execution_count": 991,
   "metadata": {},
   "outputs": [],
   "source": [
    "df.drop(\"CNT_CHILDREN\",axis=1,inplace=True)"
   ]
  },
  {
   "cell_type": "code",
   "execution_count": 992,
   "metadata": {},
   "outputs": [
    {
     "data": {
      "text/html": [
       "<div>\n",
       "<style scoped>\n",
       "    .dataframe tbody tr th:only-of-type {\n",
       "        vertical-align: middle;\n",
       "    }\n",
       "\n",
       "    .dataframe tbody tr th {\n",
       "        vertical-align: top;\n",
       "    }\n",
       "\n",
       "    .dataframe thead th {\n",
       "        text-align: right;\n",
       "    }\n",
       "</style>\n",
       "<table border=\"1\" class=\"dataframe\">\n",
       "  <thead>\n",
       "    <tr style=\"text-align: right;\">\n",
       "      <th></th>\n",
       "      <th>CODE_GENDER</th>\n",
       "      <th>FLAG_OWN_CAR</th>\n",
       "      <th>FLAG_OWN_REALTY</th>\n",
       "      <th>AMT_INCOME_TOTAL</th>\n",
       "      <th>NAME_INCOME_TYPE</th>\n",
       "      <th>NAME_EDUCATION_TYPE</th>\n",
       "      <th>NAME_FAMILY_STATUS</th>\n",
       "      <th>NAME_HOUSING_TYPE</th>\n",
       "      <th>AGE</th>\n",
       "      <th>YEARS_EMPLOYED</th>\n",
       "      <th>FLAG_WORK_PHONE</th>\n",
       "      <th>FLAG_PHONE</th>\n",
       "      <th>CNT_FAM_MEMBERS</th>\n",
       "      <th>STATUS</th>\n",
       "    </tr>\n",
       "  </thead>\n",
       "  <tbody>\n",
       "    <tr>\n",
       "      <th>0</th>\n",
       "      <td>M</td>\n",
       "      <td>Y</td>\n",
       "      <td>Y</td>\n",
       "      <td>427500.0</td>\n",
       "      <td>Working</td>\n",
       "      <td>Higher education</td>\n",
       "      <td>Civil marriage</td>\n",
       "      <td>Rented apartment</td>\n",
       "      <td>33.0</td>\n",
       "      <td>12.0</td>\n",
       "      <td>1</td>\n",
       "      <td>0</td>\n",
       "      <td>2</td>\n",
       "      <td>0</td>\n",
       "    </tr>\n",
       "    <tr>\n",
       "      <th>2</th>\n",
       "      <td>M</td>\n",
       "      <td>Y</td>\n",
       "      <td>Y</td>\n",
       "      <td>112500.0</td>\n",
       "      <td>Working</td>\n",
       "      <td>Secondary / secondary special</td>\n",
       "      <td>Married</td>\n",
       "      <td>House / apartment</td>\n",
       "      <td>59.0</td>\n",
       "      <td>3.0</td>\n",
       "      <td>0</td>\n",
       "      <td>0</td>\n",
       "      <td>2</td>\n",
       "      <td>0</td>\n",
       "    </tr>\n",
       "    <tr>\n",
       "      <th>3</th>\n",
       "      <td>F</td>\n",
       "      <td>N</td>\n",
       "      <td>Y</td>\n",
       "      <td>270000.0</td>\n",
       "      <td>Commercial associate</td>\n",
       "      <td>Secondary / secondary special</td>\n",
       "      <td>Single / not married</td>\n",
       "      <td>House / apartment</td>\n",
       "      <td>52.0</td>\n",
       "      <td>8.0</td>\n",
       "      <td>0</td>\n",
       "      <td>1</td>\n",
       "      <td>1</td>\n",
       "      <td>0</td>\n",
       "    </tr>\n",
       "    <tr>\n",
       "      <th>6</th>\n",
       "      <td>F</td>\n",
       "      <td>N</td>\n",
       "      <td>Y</td>\n",
       "      <td>283500.0</td>\n",
       "      <td>Pensioner</td>\n",
       "      <td>Higher education</td>\n",
       "      <td>Separated</td>\n",
       "      <td>House / apartment</td>\n",
       "      <td>62.0</td>\n",
       "      <td>-0.0</td>\n",
       "      <td>0</td>\n",
       "      <td>0</td>\n",
       "      <td>1</td>\n",
       "      <td>0</td>\n",
       "    </tr>\n",
       "    <tr>\n",
       "      <th>9</th>\n",
       "      <td>M</td>\n",
       "      <td>Y</td>\n",
       "      <td>Y</td>\n",
       "      <td>270000.0</td>\n",
       "      <td>Working</td>\n",
       "      <td>Higher education</td>\n",
       "      <td>Married</td>\n",
       "      <td>House / apartment</td>\n",
       "      <td>46.0</td>\n",
       "      <td>2.0</td>\n",
       "      <td>1</td>\n",
       "      <td>1</td>\n",
       "      <td>2</td>\n",
       "      <td>0</td>\n",
       "    </tr>\n",
       "  </tbody>\n",
       "</table>\n",
       "</div>"
      ],
      "text/plain": [
       "  CODE_GENDER FLAG_OWN_CAR FLAG_OWN_REALTY  AMT_INCOME_TOTAL  \\\n",
       "0           M            Y               Y          427500.0   \n",
       "2           M            Y               Y          112500.0   \n",
       "3           F            N               Y          270000.0   \n",
       "6           F            N               Y          283500.0   \n",
       "9           M            Y               Y          270000.0   \n",
       "\n",
       "       NAME_INCOME_TYPE            NAME_EDUCATION_TYPE    NAME_FAMILY_STATUS  \\\n",
       "0               Working               Higher education        Civil marriage   \n",
       "2               Working  Secondary / secondary special               Married   \n",
       "3  Commercial associate  Secondary / secondary special  Single / not married   \n",
       "6             Pensioner               Higher education             Separated   \n",
       "9               Working               Higher education               Married   \n",
       "\n",
       "   NAME_HOUSING_TYPE   AGE  YEARS_EMPLOYED  FLAG_WORK_PHONE  FLAG_PHONE  \\\n",
       "0   Rented apartment  33.0            12.0                1           0   \n",
       "2  House / apartment  59.0             3.0                0           0   \n",
       "3  House / apartment  52.0             8.0                0           1   \n",
       "6  House / apartment  62.0            -0.0                0           0   \n",
       "9  House / apartment  46.0             2.0                1           1   \n",
       "\n",
       "   CNT_FAM_MEMBERS  STATUS  \n",
       "0                2       0  \n",
       "2                2       0  \n",
       "3                1       0  \n",
       "6                1       0  \n",
       "9                2       0  "
      ]
     },
     "execution_count": 992,
     "metadata": {},
     "output_type": "execute_result"
    }
   ],
   "source": [
    "df.head()"
   ]
  },
  {
   "cell_type": "code",
   "execution_count": 993,
   "metadata": {},
   "outputs": [
    {
     "name": "stdout",
     "output_type": "stream",
     "text": [
      "<class 'pandas.core.frame.DataFrame'>\n",
      "Int64Index: 9404 entries, 0 to 22515\n",
      "Data columns (total 14 columns):\n",
      " #   Column               Non-Null Count  Dtype  \n",
      "---  ------               --------------  -----  \n",
      " 0   CODE_GENDER          9404 non-null   object \n",
      " 1   FLAG_OWN_CAR         9404 non-null   object \n",
      " 2   FLAG_OWN_REALTY      9404 non-null   object \n",
      " 3   AMT_INCOME_TOTAL     9404 non-null   float64\n",
      " 4   NAME_INCOME_TYPE     9404 non-null   object \n",
      " 5   NAME_EDUCATION_TYPE  9404 non-null   object \n",
      " 6   NAME_FAMILY_STATUS   9404 non-null   object \n",
      " 7   NAME_HOUSING_TYPE    9404 non-null   object \n",
      " 8   AGE                  9404 non-null   float64\n",
      " 9   YEARS_EMPLOYED       9404 non-null   float64\n",
      " 10  FLAG_WORK_PHONE      9404 non-null   int64  \n",
      " 11  FLAG_PHONE           9404 non-null   int64  \n",
      " 12  CNT_FAM_MEMBERS      9404 non-null   int64  \n",
      " 13  STATUS               9404 non-null   int64  \n",
      "dtypes: float64(3), int64(4), object(7)\n",
      "memory usage: 1.1+ MB\n"
     ]
    }
   ],
   "source": [
    "df.info()"
   ]
  },
  {
   "cell_type": "markdown",
   "metadata": {},
   "source": [
    "# Genarating Test data"
   ]
  },
  {
   "cell_type": "code",
   "execution_count": 994,
   "metadata": {},
   "outputs": [],
   "source": [
    "# This will be the actual test data not the validation testing data, in industry the data scientists are given a test data on \n",
    "# which they have to predict the Target variable annd since here we were not given a seperate test data I am generationg one \n",
    "# using sample function. It is a good habit to follow industry approach\n",
    "dft=df.sample(frac=0.2,random_state=10)"
   ]
  },
  {
   "cell_type": "code",
   "execution_count": 995,
   "metadata": {},
   "outputs": [
    {
     "data": {
      "text/html": [
       "<div>\n",
       "<style scoped>\n",
       "    .dataframe tbody tr th:only-of-type {\n",
       "        vertical-align: middle;\n",
       "    }\n",
       "\n",
       "    .dataframe tbody tr th {\n",
       "        vertical-align: top;\n",
       "    }\n",
       "\n",
       "    .dataframe thead th {\n",
       "        text-align: right;\n",
       "    }\n",
       "</style>\n",
       "<table border=\"1\" class=\"dataframe\">\n",
       "  <thead>\n",
       "    <tr style=\"text-align: right;\">\n",
       "      <th></th>\n",
       "      <th>CODE_GENDER</th>\n",
       "      <th>FLAG_OWN_CAR</th>\n",
       "      <th>FLAG_OWN_REALTY</th>\n",
       "      <th>AMT_INCOME_TOTAL</th>\n",
       "      <th>NAME_INCOME_TYPE</th>\n",
       "      <th>NAME_EDUCATION_TYPE</th>\n",
       "      <th>NAME_FAMILY_STATUS</th>\n",
       "      <th>NAME_HOUSING_TYPE</th>\n",
       "      <th>AGE</th>\n",
       "      <th>YEARS_EMPLOYED</th>\n",
       "      <th>FLAG_WORK_PHONE</th>\n",
       "      <th>FLAG_PHONE</th>\n",
       "      <th>CNT_FAM_MEMBERS</th>\n",
       "      <th>STATUS</th>\n",
       "    </tr>\n",
       "  </thead>\n",
       "  <tbody>\n",
       "    <tr>\n",
       "      <th>22261</th>\n",
       "      <td>M</td>\n",
       "      <td>Y</td>\n",
       "      <td>Y</td>\n",
       "      <td>315000.0</td>\n",
       "      <td>Working</td>\n",
       "      <td>Secondary / secondary special</td>\n",
       "      <td>Single / not married</td>\n",
       "      <td>House / apartment</td>\n",
       "      <td>35.0</td>\n",
       "      <td>5.0</td>\n",
       "      <td>0</td>\n",
       "      <td>1</td>\n",
       "      <td>1</td>\n",
       "      <td>0</td>\n",
       "    </tr>\n",
       "    <tr>\n",
       "      <th>1009</th>\n",
       "      <td>M</td>\n",
       "      <td>N</td>\n",
       "      <td>Y</td>\n",
       "      <td>360000.0</td>\n",
       "      <td>Working</td>\n",
       "      <td>Secondary / secondary special</td>\n",
       "      <td>Married</td>\n",
       "      <td>House / apartment</td>\n",
       "      <td>50.0</td>\n",
       "      <td>4.0</td>\n",
       "      <td>0</td>\n",
       "      <td>0</td>\n",
       "      <td>2</td>\n",
       "      <td>0</td>\n",
       "    </tr>\n",
       "    <tr>\n",
       "      <th>4453</th>\n",
       "      <td>F</td>\n",
       "      <td>N</td>\n",
       "      <td>Y</td>\n",
       "      <td>360000.0</td>\n",
       "      <td>Working</td>\n",
       "      <td>Secondary / secondary special</td>\n",
       "      <td>Civil marriage</td>\n",
       "      <td>House / apartment</td>\n",
       "      <td>34.0</td>\n",
       "      <td>11.0</td>\n",
       "      <td>0</td>\n",
       "      <td>0</td>\n",
       "      <td>4</td>\n",
       "      <td>0</td>\n",
       "    </tr>\n",
       "    <tr>\n",
       "      <th>12360</th>\n",
       "      <td>F</td>\n",
       "      <td>N</td>\n",
       "      <td>Y</td>\n",
       "      <td>236250.0</td>\n",
       "      <td>Pensioner</td>\n",
       "      <td>Secondary / secondary special</td>\n",
       "      <td>Widow</td>\n",
       "      <td>House / apartment</td>\n",
       "      <td>68.0</td>\n",
       "      <td>-0.0</td>\n",
       "      <td>0</td>\n",
       "      <td>1</td>\n",
       "      <td>1</td>\n",
       "      <td>0</td>\n",
       "    </tr>\n",
       "    <tr>\n",
       "      <th>7202</th>\n",
       "      <td>F</td>\n",
       "      <td>N</td>\n",
       "      <td>Y</td>\n",
       "      <td>180000.0</td>\n",
       "      <td>State servant</td>\n",
       "      <td>Secondary / secondary special</td>\n",
       "      <td>Civil marriage</td>\n",
       "      <td>House / apartment</td>\n",
       "      <td>44.0</td>\n",
       "      <td>20.0</td>\n",
       "      <td>1</td>\n",
       "      <td>0</td>\n",
       "      <td>2</td>\n",
       "      <td>0</td>\n",
       "    </tr>\n",
       "  </tbody>\n",
       "</table>\n",
       "</div>"
      ],
      "text/plain": [
       "      CODE_GENDER FLAG_OWN_CAR FLAG_OWN_REALTY  AMT_INCOME_TOTAL  \\\n",
       "22261           M            Y               Y          315000.0   \n",
       "1009            M            N               Y          360000.0   \n",
       "4453            F            N               Y          360000.0   \n",
       "12360           F            N               Y          236250.0   \n",
       "7202            F            N               Y          180000.0   \n",
       "\n",
       "      NAME_INCOME_TYPE            NAME_EDUCATION_TYPE    NAME_FAMILY_STATUS  \\\n",
       "22261          Working  Secondary / secondary special  Single / not married   \n",
       "1009           Working  Secondary / secondary special               Married   \n",
       "4453           Working  Secondary / secondary special        Civil marriage   \n",
       "12360        Pensioner  Secondary / secondary special                 Widow   \n",
       "7202     State servant  Secondary / secondary special        Civil marriage   \n",
       "\n",
       "       NAME_HOUSING_TYPE   AGE  YEARS_EMPLOYED  FLAG_WORK_PHONE  FLAG_PHONE  \\\n",
       "22261  House / apartment  35.0             5.0                0           1   \n",
       "1009   House / apartment  50.0             4.0                0           0   \n",
       "4453   House / apartment  34.0            11.0                0           0   \n",
       "12360  House / apartment  68.0            -0.0                0           1   \n",
       "7202   House / apartment  44.0            20.0                1           0   \n",
       "\n",
       "       CNT_FAM_MEMBERS  STATUS  \n",
       "22261                1       0  \n",
       "1009                 2       0  \n",
       "4453                 4       0  \n",
       "12360                1       0  \n",
       "7202                 2       0  "
      ]
     },
     "execution_count": 995,
     "metadata": {},
     "output_type": "execute_result"
    }
   ],
   "source": [
    "df=df.drop(dft.index)\n",
    "dft.head()"
   ]
  },
  {
   "cell_type": "code",
   "execution_count": 996,
   "metadata": {},
   "outputs": [],
   "source": [
    "# droping the target variable because in real life problem target varible is not present in test data\n",
    "dft.drop(\"STATUS\",axis= 1 , inplace= True)"
   ]
  },
  {
   "cell_type": "code",
   "execution_count": 997,
   "metadata": {},
   "outputs": [
    {
     "data": {
      "text/plain": [
       "['CODE_GENDER',\n",
       " 'FLAG_OWN_CAR',\n",
       " 'FLAG_OWN_REALTY',\n",
       " 'NAME_INCOME_TYPE',\n",
       " 'NAME_EDUCATION_TYPE',\n",
       " 'NAME_FAMILY_STATUS',\n",
       " 'NAME_HOUSING_TYPE']"
      ]
     },
     "execution_count": 997,
     "metadata": {},
     "output_type": "execute_result"
    }
   ],
   "source": [
    "# Seperating all the categorical variables for Label Encoding\n",
    "colname1=[]\n",
    "for x in df.columns[:-1]:\n",
    "    if df[x].dtype==\"object\":\n",
    "        colname1.append(x)\n",
    "        \n",
    "colname1"
   ]
  },
  {
   "cell_type": "code",
   "execution_count": 998,
   "metadata": {},
   "outputs": [],
   "source": [
    "# Converting categorical variables into numerical variables using LabelEncoder\n",
    "from sklearn import preprocessing\n",
    "\n",
    "le=preprocessing.LabelEncoder()\n",
    "\n",
    "for x in colname1:\n",
    "    df[x]=le.fit_transform(df[x])"
   ]
  },
  {
   "cell_type": "code",
   "execution_count": 999,
   "metadata": {},
   "outputs": [
    {
     "data": {
      "text/html": [
       "<div>\n",
       "<style scoped>\n",
       "    .dataframe tbody tr th:only-of-type {\n",
       "        vertical-align: middle;\n",
       "    }\n",
       "\n",
       "    .dataframe tbody tr th {\n",
       "        vertical-align: top;\n",
       "    }\n",
       "\n",
       "    .dataframe thead th {\n",
       "        text-align: right;\n",
       "    }\n",
       "</style>\n",
       "<table border=\"1\" class=\"dataframe\">\n",
       "  <thead>\n",
       "    <tr style=\"text-align: right;\">\n",
       "      <th></th>\n",
       "      <th>CODE_GENDER</th>\n",
       "      <th>FLAG_OWN_CAR</th>\n",
       "      <th>FLAG_OWN_REALTY</th>\n",
       "      <th>AMT_INCOME_TOTAL</th>\n",
       "      <th>NAME_INCOME_TYPE</th>\n",
       "      <th>NAME_EDUCATION_TYPE</th>\n",
       "      <th>NAME_FAMILY_STATUS</th>\n",
       "      <th>NAME_HOUSING_TYPE</th>\n",
       "      <th>AGE</th>\n",
       "      <th>YEARS_EMPLOYED</th>\n",
       "      <th>FLAG_WORK_PHONE</th>\n",
       "      <th>FLAG_PHONE</th>\n",
       "      <th>CNT_FAM_MEMBERS</th>\n",
       "      <th>STATUS</th>\n",
       "    </tr>\n",
       "  </thead>\n",
       "  <tbody>\n",
       "    <tr>\n",
       "      <th>0</th>\n",
       "      <td>1</td>\n",
       "      <td>1</td>\n",
       "      <td>1</td>\n",
       "      <td>427500.0</td>\n",
       "      <td>4</td>\n",
       "      <td>1</td>\n",
       "      <td>0</td>\n",
       "      <td>4</td>\n",
       "      <td>33.0</td>\n",
       "      <td>12.0</td>\n",
       "      <td>1</td>\n",
       "      <td>0</td>\n",
       "      <td>2</td>\n",
       "      <td>0</td>\n",
       "    </tr>\n",
       "    <tr>\n",
       "      <th>2</th>\n",
       "      <td>1</td>\n",
       "      <td>1</td>\n",
       "      <td>1</td>\n",
       "      <td>112500.0</td>\n",
       "      <td>4</td>\n",
       "      <td>4</td>\n",
       "      <td>1</td>\n",
       "      <td>1</td>\n",
       "      <td>59.0</td>\n",
       "      <td>3.0</td>\n",
       "      <td>0</td>\n",
       "      <td>0</td>\n",
       "      <td>2</td>\n",
       "      <td>0</td>\n",
       "    </tr>\n",
       "    <tr>\n",
       "      <th>3</th>\n",
       "      <td>0</td>\n",
       "      <td>0</td>\n",
       "      <td>1</td>\n",
       "      <td>270000.0</td>\n",
       "      <td>0</td>\n",
       "      <td>4</td>\n",
       "      <td>3</td>\n",
       "      <td>1</td>\n",
       "      <td>52.0</td>\n",
       "      <td>8.0</td>\n",
       "      <td>0</td>\n",
       "      <td>1</td>\n",
       "      <td>1</td>\n",
       "      <td>0</td>\n",
       "    </tr>\n",
       "    <tr>\n",
       "      <th>6</th>\n",
       "      <td>0</td>\n",
       "      <td>0</td>\n",
       "      <td>1</td>\n",
       "      <td>283500.0</td>\n",
       "      <td>1</td>\n",
       "      <td>1</td>\n",
       "      <td>2</td>\n",
       "      <td>1</td>\n",
       "      <td>62.0</td>\n",
       "      <td>-0.0</td>\n",
       "      <td>0</td>\n",
       "      <td>0</td>\n",
       "      <td>1</td>\n",
       "      <td>0</td>\n",
       "    </tr>\n",
       "    <tr>\n",
       "      <th>9</th>\n",
       "      <td>1</td>\n",
       "      <td>1</td>\n",
       "      <td>1</td>\n",
       "      <td>270000.0</td>\n",
       "      <td>4</td>\n",
       "      <td>1</td>\n",
       "      <td>1</td>\n",
       "      <td>1</td>\n",
       "      <td>46.0</td>\n",
       "      <td>2.0</td>\n",
       "      <td>1</td>\n",
       "      <td>1</td>\n",
       "      <td>2</td>\n",
       "      <td>0</td>\n",
       "    </tr>\n",
       "  </tbody>\n",
       "</table>\n",
       "</div>"
      ],
      "text/plain": [
       "   CODE_GENDER  FLAG_OWN_CAR  FLAG_OWN_REALTY  AMT_INCOME_TOTAL  \\\n",
       "0            1             1                1          427500.0   \n",
       "2            1             1                1          112500.0   \n",
       "3            0             0                1          270000.0   \n",
       "6            0             0                1          283500.0   \n",
       "9            1             1                1          270000.0   \n",
       "\n",
       "   NAME_INCOME_TYPE  NAME_EDUCATION_TYPE  NAME_FAMILY_STATUS  \\\n",
       "0                 4                    1                   0   \n",
       "2                 4                    4                   1   \n",
       "3                 0                    4                   3   \n",
       "6                 1                    1                   2   \n",
       "9                 4                    1                   1   \n",
       "\n",
       "   NAME_HOUSING_TYPE   AGE  YEARS_EMPLOYED  FLAG_WORK_PHONE  FLAG_PHONE  \\\n",
       "0                  4  33.0            12.0                1           0   \n",
       "2                  1  59.0             3.0                0           0   \n",
       "3                  1  52.0             8.0                0           1   \n",
       "6                  1  62.0            -0.0                0           0   \n",
       "9                  1  46.0             2.0                1           1   \n",
       "\n",
       "   CNT_FAM_MEMBERS  STATUS  \n",
       "0                2       0  \n",
       "2                2       0  \n",
       "3                1       0  \n",
       "6                1       0  \n",
       "9                2       0  "
      ]
     },
     "execution_count": 999,
     "metadata": {},
     "output_type": "execute_result"
    }
   ],
   "source": [
    "df.head()"
   ]
  },
  {
   "cell_type": "code",
   "execution_count": 1000,
   "metadata": {},
   "outputs": [],
   "source": [
    "# Seperating Independant variables and Dependant variables\n",
    "X=df.values[:,:-1]\n",
    "Y=df.values[:,-1]\n",
    "Y=Y.astype(int)"
   ]
  },
  {
   "cell_type": "code",
   "execution_count": 1001,
   "metadata": {},
   "outputs": [],
   "source": [
    "# Standardizing all Independant variables so that there will be no bias in the model due different numerical ranges\n",
    "from sklearn.preprocessing import StandardScaler\n",
    "\n",
    "scaler= StandardScaler()\n",
    "\n",
    "scaler.fit(X)\n",
    "\n",
    "X= scaler.transform(X)"
   ]
  },
  {
   "cell_type": "code",
   "execution_count": 1002,
   "metadata": {},
   "outputs": [],
   "source": [
    "# Spliting the data for training and validation testing\n",
    "from sklearn.model_selection import train_test_split\n",
    "\n",
    "#Split the data into test and train\n",
    "X_train, X_test, Y_train, Y_test = train_test_split(X, Y, test_size=0.2,\n",
    "                                                    random_state=10) "
   ]
  },
  {
   "cell_type": "code",
   "execution_count": 1003,
   "metadata": {},
   "outputs": [
    {
     "data": {
      "text/plain": [
       "array([[ 1.35525902,  1.29839381,  0.70274058, ...,  1.88810148,\n",
       "        -0.63937587, -0.19633948],\n",
       "       [ 1.35525902,  1.29839381,  0.70274058, ..., -0.52963255,\n",
       "        -0.63937587, -0.19633948],\n",
       "       [-0.73786633, -0.77018235,  0.70274058, ..., -0.52963255,\n",
       "         1.56402525, -1.29371091],\n",
       "       ...,\n",
       "       [-0.73786633, -0.77018235, -1.42300022, ...,  1.88810148,\n",
       "         1.56402525,  7.48526048],\n",
       "       [ 1.35525902,  1.29839381,  0.70274058, ..., -0.52963255,\n",
       "        -0.63937587, -0.19633948],\n",
       "       [-0.73786633, -0.77018235,  0.70274058, ...,  1.88810148,\n",
       "         1.56402525, -0.19633948]])"
      ]
     },
     "execution_count": 1003,
     "metadata": {},
     "output_type": "execute_result"
    }
   ],
   "source": [
    "X\n",
    "# we can see that X is now standardized"
   ]
  },
  {
   "cell_type": "markdown",
   "metadata": {},
   "source": [
    "# Building models"
   ]
  },
  {
   "cell_type": "code",
   "execution_count": 1004,
   "metadata": {},
   "outputs": [],
   "source": [
    "# Building a decision tree model to check feature importances\n",
    "from sklearn.tree import DecisionTreeClassifier\n",
    "\n",
    "model_DecisionTree=DecisionTreeClassifier(criterion=\"gini\",random_state=10)\n",
    "\n",
    "#fit the model on the data and predict the values\n",
    "model_DecisionTree.fit(X_train,Y_train)\n",
    "Y_pred=model_DecisionTree.predict(X_test)"
   ]
  },
  {
   "cell_type": "code",
   "execution_count": 1005,
   "metadata": {},
   "outputs": [
    {
     "name": "stdout",
     "output_type": "stream",
     "text": [
      "[[1322  100]\n",
      " [  75    8]]\n",
      "0.8837209302325582\n",
      "              precision    recall  f1-score   support\n",
      "\n",
      "           0       0.95      0.93      0.94      1422\n",
      "           1       0.07      0.10      0.08        83\n",
      "\n",
      "    accuracy                           0.88      1505\n",
      "   macro avg       0.51      0.51      0.51      1505\n",
      "weighted avg       0.90      0.88      0.89      1505\n",
      "\n"
     ]
    }
   ],
   "source": [
    "from sklearn.metrics import confusion_matrix, accuracy_score,classification_report\n",
    "#confusion matrix\n",
    "print(confusion_matrix(Y_test,Y_pred))\n",
    "print(accuracy_score(Y_test,Y_pred))\n",
    "print(classification_report(Y_test,Y_pred))"
   ]
  },
  {
   "cell_type": "code",
   "execution_count": 1006,
   "metadata": {},
   "outputs": [
    {
     "data": {
      "text/plain": [
       "'The recall value for class 1 is very low this happening beacause of the unbalance in the data, the model does not have enough\\nclass 1 data to learn on it properly, to solve this problem we will upsamle the class 1 data'"
      ]
     },
     "execution_count": 1006,
     "metadata": {},
     "output_type": "execute_result"
    }
   ],
   "source": [
    "\"\"\"The recall value for class 1 is very low this happening beacause of the unbalance in the data, the model does not have enough\n",
    "class 1 data to learn on it properly, to solve this problem we will upsamle the class 1 data\"\"\""
   ]
  },
  {
   "cell_type": "markdown",
   "metadata": {},
   "source": [
    "# Upsampling"
   ]
  },
  {
   "cell_type": "code",
   "execution_count": 1007,
   "metadata": {},
   "outputs": [
    {
     "data": {
      "text/plain": [
       "0    7154\n",
       "1     369\n",
       "Name: STATUS, dtype: int64"
      ]
     },
     "execution_count": 1007,
     "metadata": {},
     "output_type": "execute_result"
    }
   ],
   "source": [
    "df.STATUS.value_counts()"
   ]
  },
  {
   "cell_type": "code",
   "execution_count": 1008,
   "metadata": {},
   "outputs": [
    {
     "data": {
      "text/plain": [
       "0    95.095042\n",
       "1     4.904958\n",
       "Name: STATUS, dtype: float64"
      ]
     },
     "execution_count": 1008,
     "metadata": {},
     "output_type": "execute_result"
    }
   ],
   "source": [
    "df.STATUS.value_counts(normalize=True)*100"
   ]
  },
  {
   "cell_type": "code",
   "execution_count": 1009,
   "metadata": {},
   "outputs": [],
   "source": [
    "# We can see there is some unbalance in data so upsampling the data because model is predicting very \n",
    "# badly on class 1"
   ]
  },
  {
   "cell_type": "code",
   "execution_count": 1010,
   "metadata": {},
   "outputs": [],
   "source": [
    "from sklearn.utils import resample\n",
    "# seperating class 0 and class 1\n",
    "df_maj=df[df.STATUS==0]\n",
    "df_min=df[df.STATUS==1]"
   ]
  },
  {
   "cell_type": "code",
   "execution_count": 1011,
   "metadata": {},
   "outputs": [],
   "source": [
    "df_min_up= resample(df_min,replace=True,n_samples=7154,random_state=10)"
   ]
  },
  {
   "cell_type": "code",
   "execution_count": 1012,
   "metadata": {},
   "outputs": [
    {
     "data": {
      "text/plain": [
       "(7154, 14)"
      ]
     },
     "execution_count": 1012,
     "metadata": {},
     "output_type": "execute_result"
    }
   ],
   "source": [
    "df_min_up.shape"
   ]
  },
  {
   "cell_type": "code",
   "execution_count": 1013,
   "metadata": {},
   "outputs": [],
   "source": [
    "df = pd.concat([df_maj,df_min_up])"
   ]
  },
  {
   "cell_type": "code",
   "execution_count": 1014,
   "metadata": {},
   "outputs": [
    {
     "data": {
      "text/plain": [
       "1    7154\n",
       "0    7154\n",
       "Name: STATUS, dtype: int64"
      ]
     },
     "execution_count": 1014,
     "metadata": {},
     "output_type": "execute_result"
    }
   ],
   "source": [
    "df.STATUS.value_counts()"
   ]
  },
  {
   "cell_type": "code",
   "execution_count": 1015,
   "metadata": {},
   "outputs": [],
   "source": [
    "# Seperating Independant variables and Dependant variables\n",
    "X=df.values[:,:-1]\n",
    "Y=df.values[:,-1]\n",
    "Y=Y.astype(int)"
   ]
  },
  {
   "cell_type": "code",
   "execution_count": 1016,
   "metadata": {},
   "outputs": [],
   "source": [
    "# Standardizing all Independant variables so that there will be no bias in the model due different numerical ranges\n",
    "scaler= StandardScaler()\n",
    "\n",
    "scaler.fit(X)\n",
    "\n",
    "X= scaler.transform(X)"
   ]
  },
  {
   "cell_type": "code",
   "execution_count": 1017,
   "metadata": {},
   "outputs": [],
   "source": [
    "# Spliting the data for training and validation testing\n",
    "from sklearn.model_selection import train_test_split\n",
    "\n",
    "#Split the data into test and train\n",
    "X_train, X_test, Y_train, Y_test = train_test_split(X, Y, test_size=0.2,\n",
    "                                                    random_state=10) "
   ]
  },
  {
   "cell_type": "code",
   "execution_count": 1018,
   "metadata": {},
   "outputs": [
    {
     "data": {
      "text/plain": [
       "array([[ 1.26082642,  1.31648863,  0.77315368, ...,  1.86651034,\n",
       "        -0.6400431 , -0.19799995],\n",
       "       [ 1.26082642,  1.31648863,  0.77315368, ..., -0.53575915,\n",
       "        -0.6400431 , -0.19799995],\n",
       "       [-0.79313059, -0.75959638,  0.77315368, ..., -0.53575915,\n",
       "         1.56239478, -1.30075717],\n",
       "       ...,\n",
       "       [ 1.26082642,  1.31648863, -1.29340392, ..., -0.53575915,\n",
       "         1.56239478,  0.90475727],\n",
       "       [-0.79313059, -0.75959638,  0.77315368, ..., -0.53575915,\n",
       "         1.56239478, -0.19799995],\n",
       "       [ 1.26082642,  1.31648863,  0.77315368, ..., -0.53575915,\n",
       "        -0.6400431 ,  0.90475727]])"
      ]
     },
     "execution_count": 1018,
     "metadata": {},
     "output_type": "execute_result"
    }
   ],
   "source": [
    "X"
   ]
  },
  {
   "cell_type": "code",
   "execution_count": 1019,
   "metadata": {},
   "outputs": [
    {
     "name": "stdout",
     "output_type": "stream",
     "text": [
      "[[1294  137]\n",
      " [   0 1431]]\n",
      "0.9521313766596785\n",
      "              precision    recall  f1-score   support\n",
      "\n",
      "           0       1.00      0.90      0.95      1431\n",
      "           1       0.91      1.00      0.95      1431\n",
      "\n",
      "    accuracy                           0.95      2862\n",
      "   macro avg       0.96      0.95      0.95      2862\n",
      "weighted avg       0.96      0.95      0.95      2862\n",
      "\n"
     ]
    }
   ],
   "source": [
    "# Building a decision tree model to check feature importances\n",
    "\n",
    "from sklearn.tree import DecisionTreeClassifier\n",
    "\n",
    "model_DecisionTree=DecisionTreeClassifier(criterion=\"entropy\",random_state=10)\n",
    "\n",
    "#fit the model on the data and predict the values\n",
    "model_DecisionTree.fit(X_train,Y_train)\n",
    "Y_pred=model_DecisionTree.predict(X_test)\n",
    "\n",
    "\n",
    "#confusion matrix\n",
    "print(confusion_matrix(Y_test,Y_pred))\n",
    "print(accuracy_score(Y_test,Y_pred))\n",
    "print(classification_report(Y_test,Y_pred))"
   ]
  },
  {
   "cell_type": "code",
   "execution_count": 1020,
   "metadata": {},
   "outputs": [],
   "source": [
    "# We can notice that because of upsampling the recall of class 1 has improved drastically"
   ]
  },
  {
   "cell_type": "code",
   "execution_count": 1021,
   "metadata": {},
   "outputs": [
    {
     "name": "stdout",
     "output_type": "stream",
     "text": [
      "[('CODE_GENDER', 0.044284425266060155), ('FLAG_OWN_CAR', 0.04293879519496588), ('FLAG_OWN_REALTY', 0.00860976014564666), ('AMT_INCOME_TOTAL', 0.2693130307428257), ('NAME_INCOME_TYPE', 0.05519367112223771), ('NAME_EDUCATION_TYPE', 0.03737759623066809), ('NAME_FAMILY_STATUS', 0.05835882552410166), ('NAME_HOUSING_TYPE', 0.025265461221472177), ('AGE', 0.21075448697062568), ('YEARS_EMPLOYED', 0.14530146385047812), ('FLAG_WORK_PHONE', 0.021177655562568783), ('FLAG_PHONE', 0.033996687421475026), ('CNT_FAM_MEMBERS', 0.04742814074687437)]\n"
     ]
    }
   ],
   "source": [
    "print(list(zip(df.columns[0:-1],model_DecisionTree.feature_importances_)))"
   ]
  },
  {
   "cell_type": "code",
   "execution_count": 1022,
   "metadata": {},
   "outputs": [],
   "source": [
    "# None of the variables have very low importance value so not droping any variable"
   ]
  },
  {
   "cell_type": "code",
   "execution_count": 1023,
   "metadata": {},
   "outputs": [
    {
     "name": "stdout",
     "output_type": "stream",
     "text": [
      "[[826 605]\n",
      " [650 781]]\n",
      "0.5614954577218728\n",
      "              precision    recall  f1-score   support\n",
      "\n",
      "           0       0.56      0.58      0.57      1431\n",
      "           1       0.56      0.55      0.55      1431\n",
      "\n",
      "    accuracy                           0.56      2862\n",
      "   macro avg       0.56      0.56      0.56      2862\n",
      "weighted avg       0.56      0.56      0.56      2862\n",
      "\n"
     ]
    }
   ],
   "source": [
    "from sklearn.linear_model import LogisticRegression\n",
    "#create a model\n",
    "classifier=LogisticRegression()\n",
    "#fitting training data to the model\n",
    "classifier.fit(X_train,Y_train)\n",
    "\n",
    "Y_pred=classifier.predict(X_test)\n",
    "\n",
    "\n",
    "#confusion matrix\n",
    "print(confusion_matrix(Y_test,Y_pred))\n",
    "print(accuracy_score(Y_test,Y_pred))\n",
    "print(classification_report(Y_test,Y_pred))"
   ]
  },
  {
   "cell_type": "code",
   "execution_count": 1024,
   "metadata": {},
   "outputs": [],
   "source": [
    "# We can tune the LinearRegression model but the accuracy of the basic model is very low so it is of no use to waist time in \n",
    "# tuning the model"
   ]
  },
  {
   "cell_type": "code",
   "execution_count": 1025,
   "metadata": {},
   "outputs": [
    {
     "name": "stdout",
     "output_type": "stream",
     "text": [
      "[[ 983  448]\n",
      " [ 143 1288]]\n",
      "0.7935010482180294\n",
      "              precision    recall  f1-score   support\n",
      "\n",
      "           0       0.87      0.69      0.77      1431\n",
      "           1       0.74      0.90      0.81      1431\n",
      "\n",
      "    accuracy                           0.79      2862\n",
      "   macro avg       0.81      0.79      0.79      2862\n",
      "weighted avg       0.81      0.79      0.79      2862\n",
      "\n"
     ]
    }
   ],
   "source": [
    "# Building a Support Vector machine model \n",
    "from sklearn.svm import SVC\n",
    "svc_model=SVC(kernel='rbf',C=1,gamma=0.1)\n",
    "svc_model.fit(X_train, Y_train)\n",
    "Y_pred=svc_model.predict(X_test)\n",
    "\n",
    "\n",
    "#confusion matrix\n",
    "print(confusion_matrix(Y_test,Y_pred))\n",
    "print(accuracy_score(Y_test,Y_pred))\n",
    "print(classification_report(Y_test,Y_pred))"
   ]
  },
  {
   "cell_type": "code",
   "execution_count": 1026,
   "metadata": {},
   "outputs": [],
   "source": [
    "# I tried tuning the hyper parameters but on tuning the accuracy score went down so going with the defaul hyperparameter values"
   ]
  },
  {
   "cell_type": "code",
   "execution_count": 1027,
   "metadata": {},
   "outputs": [
    {
     "name": "stdout",
     "output_type": "stream",
     "text": [
      "[[856 575]\n",
      " [496 935]]\n",
      "0.6257861635220126\n",
      "              precision    recall  f1-score   support\n",
      "\n",
      "           0       0.63      0.60      0.62      1431\n",
      "           1       0.62      0.65      0.64      1431\n",
      "\n",
      "    accuracy                           0.63      2862\n",
      "   macro avg       0.63      0.63      0.63      2862\n",
      "weighted avg       0.63      0.63      0.63      2862\n",
      "\n"
     ]
    }
   ],
   "source": [
    "#predicting using the KNeighbors_Classifier\n",
    "from sklearn.neighbors import KNeighborsClassifier\n",
    "model_KNN=KNeighborsClassifier(n_neighbors=int(np.sqrt(len(X_train))), \n",
    "                               metric='manhattan')\n",
    "\n",
    "\n",
    "model_KNN.fit(X_train,Y_train)\n",
    "\n",
    "Y_pred=model_KNN.predict(X_test)\n",
    "\n",
    "\n",
    "#confusion matrix\n",
    "print(confusion_matrix(Y_test,Y_pred))\n",
    "print(accuracy_score(Y_test,Y_pred))\n",
    "print(classification_report(Y_test,Y_pred))"
   ]
  },
  {
   "cell_type": "code",
   "execution_count": 1028,
   "metadata": {},
   "outputs": [
    {
     "data": {
      "text/plain": [
       "106"
      ]
     },
     "execution_count": 1028,
     "metadata": {},
     "output_type": "execute_result"
    }
   ],
   "source": [
    "# The k value in above model is not the best value so to find the best k-value running a for loop below\n",
    "int(np.sqrt(len(X_train)))"
   ]
  },
  {
   "cell_type": "code",
   "execution_count": 1029,
   "metadata": {},
   "outputs": [
    {
     "name": "stdout",
     "output_type": "stream",
     "text": [
      "Accuracy is  0.9248777078965759 for K-Value: 2\n",
      "Accuracy is  0.9276729559748428 for K-Value: 3\n",
      "Accuracy is  0.9280223619846262 for K-Value: 4\n",
      "Accuracy is  0.8983228511530398 for K-Value: 5\n",
      "Accuracy is  0.8986722571628232 for K-Value: 6\n",
      "Accuracy is  0.8801537386443047 for K-Value: 7\n",
      "Accuracy is  0.8784067085953878 for K-Value: 8\n",
      "Accuracy is  0.8581411600279525 for K-Value: 9\n",
      "Accuracy is  0.8556953179594688 for K-Value: 10\n",
      "Accuracy is  0.8322851153039832 for K-Value: 11\n",
      "Accuracy is  0.8291404612159329 for K-Value: 12\n",
      "Accuracy is  0.813067784765898 for K-Value: 13\n",
      "Accuracy is  0.813067784765898 for K-Value: 14\n",
      "Accuracy is  0.7980433263452131 for K-Value: 15\n",
      "Accuracy is  0.7976939203354297 for K-Value: 16\n",
      "Accuracy is  0.782669461914745 for K-Value: 17\n",
      "Accuracy is  0.7819706498951782 for K-Value: 18\n",
      "Accuracy is  0.7686932215234102 for K-Value: 19\n",
      "Accuracy is  0.76659678546471 for K-Value: 20\n",
      "Accuracy is  0.7543675751222921 for K-Value: 21\n",
      "Accuracy is  0.7470300489168413 for K-Value: 22\n",
      "Accuracy is  0.73340321453529 for K-Value: 23\n",
      "Accuracy is  0.7288609364081062 for K-Value: 24\n",
      "Accuracy is  0.7204751921733054 for K-Value: 25\n",
      "Accuracy is  0.713487071977638 for K-Value: 26\n",
      "Accuracy is  0.7009084556254368 for K-Value: 27\n",
      "Accuracy is  0.6921733053808525 for K-Value: 28\n",
      "Accuracy is  0.6886792452830188 for K-Value: 29\n",
      "Accuracy is  0.6907756813417191 for K-Value: 30\n",
      "Accuracy is  0.6858839972047519 for K-Value: 31\n",
      "Accuracy is  0.676450034940601 for K-Value: 32\n",
      "Accuracy is  0.6750524109014675 for K-Value: 33\n",
      "Accuracy is  0.6767994409503844 for K-Value: 34\n",
      "Accuracy is  0.6705101327742837 for K-Value: 35\n",
      "Accuracy is  0.6754018169112509 for K-Value: 36\n",
      "Accuracy is  0.6788958770090846 for K-Value: 37\n",
      "Accuracy is  0.6771488469601677 for K-Value: 38\n",
      "Accuracy is  0.6771488469601677 for K-Value: 39\n",
      "Accuracy is  0.6837875611460517 for K-Value: 40\n",
      "Accuracy is  0.677498252969951 for K-Value: 41\n",
      "Accuracy is  0.6813417190775681 for K-Value: 42\n",
      "Accuracy is  0.6820405310971349 for K-Value: 43\n",
      "Accuracy is  0.6761006289308176 for K-Value: 44\n",
      "Accuracy is  0.6719077568134172 for K-Value: 45\n",
      "Accuracy is  0.6722571628232006 for K-Value: 46\n",
      "Accuracy is  0.6708595387840671 for K-Value: 47\n",
      "Accuracy is  0.6642208245981831 for K-Value: 48\n",
      "Accuracy is  0.6568832983927324 for K-Value: 49\n",
      "Accuracy is  0.6628232005590496 for K-Value: 50\n",
      "Accuracy is  0.6621243885394829 for K-Value: 51\n",
      "Accuracy is  0.6526904262753319 for K-Value: 52\n",
      "Accuracy is  0.6509433962264151 for K-Value: 53\n",
      "Accuracy is  0.6509433962264151 for K-Value: 54\n",
      "Accuracy is  0.6502445842068484 for K-Value: 55\n",
      "Accuracy is  0.6425576519916143 for K-Value: 56\n",
      "Accuracy is  0.6376659678546471 for K-Value: 57\n",
      "Accuracy is  0.6390635918937806 for K-Value: 58\n",
      "Accuracy is  0.6397624039133473 for K-Value: 59\n",
      "Accuracy is  0.6376659678546471 for K-Value: 60\n",
      "Accuracy is  0.6320754716981132 for K-Value: 61\n",
      "Accuracy is  0.6320754716981132 for K-Value: 62\n",
      "Accuracy is  0.6331236897274634 for K-Value: 63\n",
      "Accuracy is  0.6345213137665968 for K-Value: 64\n",
      "Accuracy is  0.6359189378057303 for K-Value: 65\n",
      "Accuracy is  0.640461215932914 for K-Value: 66\n",
      "Accuracy is  0.6369671558350803 for K-Value: 67\n",
      "Accuracy is  0.6355695317959469 for K-Value: 68\n",
      "Accuracy is  0.6331236897274634 for K-Value: 69\n",
      "Accuracy is  0.6348707197763801 for K-Value: 70\n",
      "Accuracy is  0.6348707197763801 for K-Value: 71\n",
      "Accuracy is  0.6303284416491963 for K-Value: 72\n",
      "Accuracy is  0.6317260656883298 for K-Value: 73\n",
      "Accuracy is  0.63277428371768 for K-Value: 74\n",
      "Accuracy is  0.6341719077568134 for K-Value: 75\n",
      "Accuracy is  0.6341719077568134 for K-Value: 76\n",
      "Accuracy is  0.6383647798742138 for K-Value: 77\n",
      "Accuracy is  0.6387141858839972 for K-Value: 78\n",
      "Accuracy is  0.639412997903564 for K-Value: 79\n",
      "Accuracy is  0.6401118099231307 for K-Value: 80\n",
      "Accuracy is  0.6317260656883298 for K-Value: 81\n",
      "Accuracy is  0.6324248777078966 for K-Value: 82\n",
      "Accuracy is  0.6261355695317959 for K-Value: 83\n",
      "Accuracy is  0.6240391334730957 for K-Value: 84\n",
      "Accuracy is  0.6285814116002795 for K-Value: 85\n",
      "Accuracy is  0.6282320055904962 for K-Value: 86\n",
      "Accuracy is  0.6247379454926625 for K-Value: 87\n",
      "Accuracy is  0.6208944793850454 for K-Value: 88\n",
      "Accuracy is  0.6247379454926625 for K-Value: 89\n",
      "Accuracy is  0.6240391334730957 for K-Value: 90\n",
      "Accuracy is  0.6180992313067785 for K-Value: 91\n",
      "Accuracy is  0.6174004192872118 for K-Value: 92\n",
      "Accuracy is  0.6156533892382949 for K-Value: 93\n",
      "Accuracy is  0.606219426974144 for K-Value: 94\n",
      "Accuracy is  0.6020265548567435 for K-Value: 95\n",
      "Accuracy is  0.6041229909154437 for K-Value: 96\n",
      "Accuracy is  0.6020265548567435 for K-Value: 97\n",
      "Accuracy is  0.6013277428371768 for K-Value: 98\n",
      "Accuracy is  0.6013277428371768 for K-Value: 99\n",
      "Accuracy is  0.60062893081761 for K-Value: 100\n",
      "Accuracy is  0.6009783368273934 for K-Value: 101\n",
      "Accuracy is  0.6076170510132775 for K-Value: 102\n",
      "Accuracy is  0.6118099231306778 for K-Value: 103\n",
      "Accuracy is  0.6118099231306778 for K-Value: 104\n",
      "Accuracy is  0.6215932914046122 for K-Value: 105\n",
      "Accuracy is  0.6135569531795947 for K-Value: 106\n"
     ]
    }
   ],
   "source": [
    "from sklearn.metrics import accuracy_score\n",
    "my_dict={}\n",
    "for K in range(2,107):\n",
    "    model_KNN = KNeighborsClassifier(n_neighbors=K,metric=\"euclidean\")\n",
    "    model_KNN.fit(X_train, Y_train) \n",
    "    Y_pred = model_KNN.predict(X_test)\n",
    "    print (\"Accuracy is \", accuracy_score(Y_test,Y_pred), \"for K-Value:\",K)\n",
    "    my_dict[K]=accuracy_score(Y_test,Y_pred)\n"
   ]
  },
  {
   "cell_type": "code",
   "execution_count": 1030,
   "metadata": {},
   "outputs": [
    {
     "name": "stdout",
     "output_type": "stream",
     "text": [
      "4 : 0.9280223619846262\n"
     ]
    }
   ],
   "source": [
    "for k in my_dict:\n",
    "    if my_dict[k]==max(my_dict.values()):\n",
    "        print(k,\":\",my_dict[k])"
   ]
  },
  {
   "cell_type": "code",
   "execution_count": 1031,
   "metadata": {},
   "outputs": [],
   "source": [
    "# The best k-value is coming out to be as 4 "
   ]
  },
  {
   "cell_type": "code",
   "execution_count": 1032,
   "metadata": {},
   "outputs": [
    {
     "name": "stdout",
     "output_type": "stream",
     "text": [
      "[[1225  206]\n",
      " [   0 1431]]\n",
      "0.9280223619846262\n",
      "              precision    recall  f1-score   support\n",
      "\n",
      "           0       1.00      0.86      0.92      1431\n",
      "           1       0.87      1.00      0.93      1431\n",
      "\n",
      "    accuracy                           0.93      2862\n",
      "   macro avg       0.94      0.93      0.93      2862\n",
      "weighted avg       0.94      0.93      0.93      2862\n",
      "\n"
     ]
    }
   ],
   "source": [
    "# Predicting using the KNeighbors_Classifier with k= 4, that is the best k-value\n",
    "from sklearn.neighbors import KNeighborsClassifier\n",
    "model_KNN=KNeighborsClassifier(n_neighbors=4, \n",
    "                               metric='euclidean')\n",
    "\n",
    "model_KNN.fit(X_train,Y_train)\n",
    "\n",
    "Y_pred=model_KNN.predict(X_test)\n",
    "\n",
    "\n",
    "#confusion matrix\n",
    "print(confusion_matrix(Y_test,Y_pred))\n",
    "print(accuracy_score(Y_test,Y_pred))\n",
    "print(classification_report(Y_test,Y_pred))"
   ]
  },
  {
   "cell_type": "code",
   "execution_count": 1033,
   "metadata": {},
   "outputs": [],
   "source": [
    "# I tried KNN using euclidean, manhattan, minkowski distance metrics the best result were given by EUCLIDEAN metric"
   ]
  },
  {
   "cell_type": "code",
   "execution_count": 1034,
   "metadata": {
    "scrolled": true
   },
   "outputs": [
    {
     "name": "stdout",
     "output_type": "stream",
     "text": [
      "[[722 709]\n",
      " [596 835]]\n",
      "0.5440251572327044\n",
      "              precision    recall  f1-score   support\n",
      "\n",
      "           0       0.55      0.50      0.53      1431\n",
      "           1       0.54      0.58      0.56      1431\n",
      "\n",
      "    accuracy                           0.54      2862\n",
      "   macro avg       0.54      0.54      0.54      2862\n",
      "weighted avg       0.54      0.54      0.54      2862\n",
      "\n"
     ]
    }
   ],
   "source": [
    "#predicting using the Naive_Bayes_Classifier\n",
    "from sklearn.naive_bayes import GaussianNB\n",
    "\n",
    "model_NB=GaussianNB()\n",
    "\n",
    "#fit the model on the data and predict the values\n",
    "model_NB.fit(X_train,Y_train)\n",
    "Y_pred=model_NB.predict(X_test)\n",
    "\n",
    "\n",
    "#confusion matrix\n",
    "print(confusion_matrix(Y_test,Y_pred))\n",
    "print(accuracy_score(Y_test,Y_pred))\n",
    "print(classification_report(Y_test,Y_pred))"
   ]
  },
  {
   "cell_type": "code",
   "execution_count": 1035,
   "metadata": {},
   "outputs": [],
   "source": [
    "# Here also the accuracy score for the base model is low there is no need to waist time in tuning it"
   ]
  },
  {
   "cell_type": "code",
   "execution_count": 1036,
   "metadata": {},
   "outputs": [
    {
     "name": "stdout",
     "output_type": "stream",
     "text": [
      "[[1380   51]\n",
      " [   0 1431]]\n",
      "0.9821802935010482\n",
      "              precision    recall  f1-score   support\n",
      "\n",
      "           0       1.00      0.96      0.98      1431\n",
      "           1       0.97      1.00      0.98      1431\n",
      "\n",
      "    accuracy                           0.98      2862\n",
      "   macro avg       0.98      0.98      0.98      2862\n",
      "weighted avg       0.98      0.98      0.98      2862\n",
      "\n"
     ]
    }
   ],
   "source": [
    "#predicting using the Random_Forest_Classifier\n",
    "from sklearn.ensemble import RandomForestClassifier\n",
    "\n",
    "model_RandomForest=RandomForestClassifier(n_estimators=200, random_state=10)\n",
    "\n",
    "#fit the model on the data and predict the values\n",
    "model_RandomForest.fit(X_train,Y_train)\n",
    "\n",
    "Y_pred=model_RandomForest.predict(X_test)\n",
    "\n",
    "\n",
    "#confusion matrix\n",
    "print(confusion_matrix(Y_test,Y_pred))\n",
    "print(accuracy_score(Y_test,Y_pred))\n",
    "print(classification_report(Y_test,Y_pred))"
   ]
  },
  {
   "cell_type": "code",
   "execution_count": 1037,
   "metadata": {},
   "outputs": [],
   "source": [
    "# I tried many values for number of estimator in the above RandomForest model but after increasing value from 200 the results\n",
    "# are not changing so going with the lower value"
   ]
  },
  {
   "cell_type": "code",
   "execution_count": 1038,
   "metadata": {},
   "outputs": [
    {
     "name": "stdout",
     "output_type": "stream",
     "text": [
      "[[1379   52]\n",
      " [   0 1431]]\n",
      "0.9818308874912649\n",
      "              precision    recall  f1-score   support\n",
      "\n",
      "           0       1.00      0.96      0.98      1431\n",
      "           1       0.96      1.00      0.98      1431\n",
      "\n",
      "    accuracy                           0.98      2862\n",
      "   macro avg       0.98      0.98      0.98      2862\n",
      "weighted avg       0.98      0.98      0.98      2862\n",
      "\n"
     ]
    }
   ],
   "source": [
    "#predicting using the Extra_Trees_Classifier\n",
    "from sklearn.ensemble import ExtraTreesClassifier\n",
    "\n",
    "model_EXT=ExtraTreesClassifier(n_estimators=100, random_state=10)\n",
    "\n",
    "#fit the model on the data and predict the values\n",
    "model_EXT.fit(X_train,Y_train)\n",
    "\n",
    "Y_pred=model_EXT.predict(X_test)\n",
    "\n",
    "\n",
    "\n",
    "#confusion matrix\n",
    "print(confusion_matrix(Y_test,Y_pred))\n",
    "print(accuracy_score(Y_test,Y_pred))\n",
    "print(classification_report(Y_test,Y_pred))"
   ]
  },
  {
   "cell_type": "code",
   "execution_count": 1039,
   "metadata": {},
   "outputs": [],
   "source": [
    "# For the above Extratree Classifier the best result is coming when number of tree are kept 100, on both increasing as well as \n",
    "# decresing the accuracy score is droping"
   ]
  },
  {
   "cell_type": "code",
   "execution_count": 1040,
   "metadata": {},
   "outputs": [
    {
     "name": "stdout",
     "output_type": "stream",
     "text": [
      "[[1377   54]\n",
      " [   0 1431]]\n",
      "0.9811320754716981\n",
      "              precision    recall  f1-score   support\n",
      "\n",
      "           0       1.00      0.96      0.98      1431\n",
      "           1       0.96      1.00      0.98      1431\n",
      "\n",
      "    accuracy                           0.98      2862\n",
      "   macro avg       0.98      0.98      0.98      2862\n",
      "weighted avg       0.98      0.98      0.98      2862\n",
      "\n"
     ]
    }
   ],
   "source": [
    "# Running Adaboost classifier\n",
    "\n",
    "#predicting using the AdaBoost_Classifier\n",
    "from sklearn.ensemble import AdaBoostClassifier\n",
    "\n",
    "model_AdaBoost=AdaBoostClassifier(base_estimator=DecisionTreeClassifier(random_state=10),\n",
    "                                  n_estimators=300,\n",
    "                                  random_state=10)\n",
    "#fit the model on the data and predict the values\n",
    "model_AdaBoost.fit(X_train,Y_train)\n",
    "Y_pred=model_AdaBoost.predict(X_test)\n",
    "\n",
    "\n",
    "\n",
    "#confusion matrix\n",
    "print(confusion_matrix(Y_test,Y_pred))\n",
    "print(accuracy_score(Y_test,Y_pred))\n",
    "print(classification_report(Y_test,Y_pred))"
   ]
  },
  {
   "cell_type": "code",
   "execution_count": 1041,
   "metadata": {},
   "outputs": [],
   "source": [
    "#  On trying different values for n_estimators 300 was found to be best"
   ]
  },
  {
   "cell_type": "code",
   "execution_count": 1042,
   "metadata": {},
   "outputs": [
    {
     "name": "stdout",
     "output_type": "stream",
     "text": [
      "[[1297  134]\n",
      " [   0 1431]]\n",
      "0.9531795946890287\n",
      "              precision    recall  f1-score   support\n",
      "\n",
      "           0       1.00      0.91      0.95      1431\n",
      "           1       0.91      1.00      0.96      1431\n",
      "\n",
      "    accuracy                           0.95      2862\n",
      "   macro avg       0.96      0.95      0.95      2862\n",
      "weighted avg       0.96      0.95      0.95      2862\n",
      "\n"
     ]
    }
   ],
   "source": [
    "#predicting using the Gradient_Boosting_Classifier\n",
    "from sklearn.ensemble import GradientBoostingClassifier\n",
    "\n",
    "model_GradientBoosting=GradientBoostingClassifier(n_estimators=6000,\n",
    "                                                  random_state=10)\n",
    "\n",
    "#fit the model on the data and predict the values\n",
    "model_GradientBoosting.fit(X_train,Y_train)\n",
    "\n",
    "Y_pred=model_GradientBoosting.predict(X_test)\n",
    "\n",
    "\n",
    "model_GradientBoosting.n_estimators\n",
    "\n",
    "\n",
    "#confusion matrix\n",
    "print(confusion_matrix(Y_test,Y_pred))\n",
    "print(accuracy_score(Y_test,Y_pred))\n",
    "print(classification_report(Y_test,Y_pred))\n",
    "\n"
   ]
  },
  {
   "cell_type": "code",
   "execution_count": 1043,
   "metadata": {},
   "outputs": [],
   "source": [
    "# On trying different values for n_estimators 6000 was found to be best in Gradient boosting model"
   ]
  },
  {
   "cell_type": "code",
   "execution_count": 1044,
   "metadata": {},
   "outputs": [
    {
     "name": "stdout",
     "output_type": "stream",
     "text": [
      "[15:18:40] WARNING: C:/Users/Administrator/workspace/xgboost-win64_release_1.4.0/src/learner.cc:1095: Starting in XGBoost 1.3.0, the default evaluation metric used with the objective 'binary:logistic' was changed from 'error' to 'logloss'. Explicitly set eval_metric if you'd like to restore the old behavior.\n"
     ]
    },
    {
     "name": "stderr",
     "output_type": "stream",
     "text": [
      "C:\\Users\\awais\\anaconda3\\lib\\site-packages\\xgboost\\sklearn.py:1146: UserWarning: The use of label encoder in XGBClassifier is deprecated and will be removed in a future release. To remove this warning, do the following: 1) Pass option use_label_encoder=False when constructing XGBClassifier object; and 2) Encode your labels (y) as integers starting with 0, i.e. 0, 1, 2, ..., [num_class - 1].\n",
      "  warnings.warn(label_encoder_deprecation_msg, UserWarning)\n"
     ]
    },
    {
     "name": "stdout",
     "output_type": "stream",
     "text": [
      "[[1358   73]\n",
      " [   0 1431]]\n",
      "0.9744933612858141\n",
      "              precision    recall  f1-score   support\n",
      "\n",
      "           0       1.00      0.95      0.97      1431\n",
      "           1       0.95      1.00      0.98      1431\n",
      "\n",
      "    accuracy                           0.97      2862\n",
      "   macro avg       0.98      0.97      0.97      2862\n",
      "weighted avg       0.98      0.97      0.97      2862\n",
      "\n"
     ]
    }
   ],
   "source": [
    "# Running XGBoost\n",
    "\n",
    "from xgboost import XGBClassifier\n",
    "\n",
    "model_GradientBoosting=XGBClassifier(n_estimators=6000,random_state=10)\n",
    "\n",
    "#fit the model on the data and predict the values\n",
    "model_GradientBoosting.fit(X_train,Y_train)\n",
    "\n",
    "Y_pred=model_GradientBoosting.predict(X_test)\n",
    "\n",
    "\n",
    "\n",
    "\n",
    "#confusion matrix\n",
    "print(confusion_matrix(Y_test,Y_pred))\n",
    "print(accuracy_score(Y_test,Y_pred))\n",
    "print(classification_report(Y_test,Y_pred))"
   ]
  },
  {
   "cell_type": "code",
   "execution_count": 1045,
   "metadata": {},
   "outputs": [],
   "source": [
    "# On trying different values for n_estimators 6000 was found to be best in XGBoost model"
   ]
  },
  {
   "cell_type": "code",
   "execution_count": 1046,
   "metadata": {
    "scrolled": true
   },
   "outputs": [
    {
     "name": "stdout",
     "output_type": "stream",
     "text": [
      "[[1333   98]\n",
      " [  22 1409]]\n",
      "0.9580712788259959\n",
      "              precision    recall  f1-score   support\n",
      "\n",
      "           0       0.98      0.93      0.96      1431\n",
      "           1       0.93      0.98      0.96      1431\n",
      "\n",
      "    accuracy                           0.96      2862\n",
      "   macro avg       0.96      0.96      0.96      2862\n",
      "weighted avg       0.96      0.96      0.96      2862\n",
      "\n"
     ]
    }
   ],
   "source": [
    "from sklearn.ensemble import VotingClassifier\n",
    "\n",
    "# create the sub models\n",
    "estimators = []\n",
    "model1 = LogisticRegression()\n",
    "estimators.append(('log', model1))\n",
    "model2 = DecisionTreeClassifier(criterion='entropy',random_state=10)\n",
    "estimators.append(('cart', model2))\n",
    "model3 = SVC(kernel=\"rbf\", C=100,gamma=0.1)\n",
    "estimators.append(('svm', model3))\n",
    "model4 = KNeighborsClassifier(n_neighbors=4, metric='euclidean')\n",
    "estimators.append(('knn', model4))\n",
    "\n",
    "\n",
    "# create the ensemble model\n",
    "ensemble = VotingClassifier(estimators)\n",
    "ensemble.fit(X_train,Y_train)\n",
    "Y_pred=ensemble.predict(X_test)\n",
    "\n",
    "\n",
    "\n",
    "\n",
    "#confusion matrix\n",
    "print(confusion_matrix(Y_test,Y_pred))\n",
    "print(accuracy_score(Y_test,Y_pred))\n",
    "print(classification_report(Y_test,Y_pred))"
   ]
  },
  {
   "cell_type": "code",
   "execution_count": 1047,
   "metadata": {},
   "outputs": [],
   "source": [
    "# Even though logisticRegression but on including it in Voting classifier increased its accuracy"
   ]
  },
  {
   "cell_type": "markdown",
   "metadata": {},
   "source": [
    "# Best model"
   ]
  },
  {
   "cell_type": "markdown",
   "metadata": {},
   "source": [
    "We got best reulst using RandommForest model with 200 trees. So we will use that model to predict on the test data"
   ]
  },
  {
   "cell_type": "markdown",
   "metadata": {},
   "source": [
    "We also need to preprocess the Test data to predict upon it"
   ]
  },
  {
   "cell_type": "code",
   "execution_count": 1048,
   "metadata": {},
   "outputs": [],
   "source": [
    "colname2=[]\n",
    "for x in dft.columns[:-1]:\n",
    "    if dft[x].dtype==\"object\":\n",
    "        colname2.append(x)\n",
    "        \n",
    "# Converting categorical variables into numerical variables using LabelEncoder\n",
    "from sklearn import preprocessing\n",
    "\n",
    "le=preprocessing.LabelEncoder()\n",
    "\n",
    "for x in colname2:\n",
    "    dft[x]=le.fit_transform(dft[x])"
   ]
  },
  {
   "cell_type": "code",
   "execution_count": 1051,
   "metadata": {},
   "outputs": [],
   "source": [
    "Xt=dft.values[:,:]"
   ]
  },
  {
   "cell_type": "code",
   "execution_count": 1052,
   "metadata": {},
   "outputs": [],
   "source": [
    "# Standardizing the data \n",
    "Xt= scaler.transform(Xt)"
   ]
  },
  {
   "cell_type": "code",
   "execution_count": 1053,
   "metadata": {},
   "outputs": [],
   "source": [
    "Y_predt=model_RandomForest.predict(X_test)"
   ]
  },
  {
   "cell_type": "code",
   "execution_count": 1054,
   "metadata": {},
   "outputs": [
    {
     "name": "stdout",
     "output_type": "stream",
     "text": [
      "[1 0 1 ... 1 0 0]\n"
     ]
    }
   ],
   "source": [
    "print(Y_predt)"
   ]
  },
  {
   "cell_type": "code",
   "execution_count": null,
   "metadata": {},
   "outputs": [],
   "source": [
    "# These are the predictated value and we can store them in a excel file and send it to the client for whom we are working\n"
   ]
  }
 ],
 "metadata": {
  "kernelspec": {
   "display_name": "Python 3",
   "language": "python",
   "name": "python3"
  },
  "language_info": {
   "codemirror_mode": {
    "name": "ipython",
    "version": 3
   },
   "file_extension": ".py",
   "mimetype": "text/x-python",
   "name": "python",
   "nbconvert_exporter": "python",
   "pygments_lexer": "ipython3",
   "version": "3.8.3"
  }
 },
 "nbformat": 4,
 "nbformat_minor": 4
}
